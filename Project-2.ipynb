{
 "cells": [
  {
   "cell_type": "markdown",
   "metadata": {},
   "source": [
    "## Project - 2 : Predicting players rating\n",
    "In this project I am going to predict the overall rating of soccer player based on their attributes such as crossing,finishing etc.\n",
    "\n",
    "## About the Dataset\n",
    "The ultimate Soccer database for data analysis and machine learning"
   ]
  },
  {
   "cell_type": "markdown",
   "metadata": {},
   "source": [
    "\n",
    "### The ultimate Soccer database for data analysis and machine learning\n",
    "<p>The dataset comes in the form of an SQL database and contains statistics of about 25,000 football\n",
    "matches, from the top football league of 11 European Countries. It covers seasons from 2008 to\n",
    "2016 and contains match statistics (i.e: scores, corners, fouls etc...) as well as the team formations,\n",
    "with player names and a pair of coordinates to indicate their position on the pitch. </p>\n",
    "<ul>\n",
    "<li>+25,000 matches</li>\n",
    "<li>+10,000 players</li>\n",
    "<li>11 European Countries with their lead championship</li>\n",
    "<li>Seasons 2008 to 2016</li>\n",
    "<li>Players and Teams' attributes* sourced from EA Sports' FIFA video game series, including the weekly updates</li>\n",
    "<li>Team line up with squad formation (X, Y coordinates)</li>\n",
    "<li>Betting odds from up to 10 providers</li>\n",
    "<li>Detailed match events (goal types, possession, corner, cross, fouls, cards etc...) for +10,000 matches</li>\n",
    "</ul>    \n",
    "<p>The dataset also has a set of about 35 statistics for each player, derived from EA Sports' FIFA video\n",
    "games. It is not just the stats that come with a new version of the game but also the weekly\n",
    "updates. So for instance if a player has performed poorly over a period of time and his stats get\n",
    "impacted in FIFA, you would normally see the same in the dataset. </p>"
   ]
  },
  {
   "cell_type": "code",
   "execution_count": 1,
   "metadata": {},
   "outputs": [],
   "source": [
    "#Import Libraries for Sqllite\n",
    "import sqlite3\n",
    "import pandas as pd\n",
    "import numpy as np\n",
    "import seaborn as  sns\n",
    "import matplotlib.pyplot as plt\n",
    "\n",
    "#Import Scikit-learn provides a range of supervised and unsupervised learning algorithms via a consistent interface in Python.\n",
    "from sklearn.tree import DecisionTreeRegressor\n",
    "from sklearn.linear_model import LinearRegression\n",
    "from sklearn.model_selection import train_test_split, cross_val_score\n",
    "from sklearn.metrics import mean_squared_error,r2_score\n",
    "from math import sqrt\n",
    "%matplotlib inline"
   ]
  },
  {
   "cell_type": "markdown",
   "metadata": {},
   "source": [
    "## Data Pre-Processing"
   ]
  },
  {
   "cell_type": "code",
   "execution_count": 2,
   "metadata": {},
   "outputs": [],
   "source": [
    "# Create your connection.\n",
    "cnx = sqlite3.connect('database.sqlite')  #Creating a Connection object that represents the database \n",
    "df = pd.read_sql_query(\"SELECT * FROM Player_Attributes\", cnx)  #Reading SQL query into a DataFrame"
   ]
  },
  {
   "cell_type": "markdown",
   "metadata": {},
   "source": [
    "## Data Exploration"
   ]
  },
  {
   "cell_type": "code",
   "execution_count": 3,
   "metadata": {},
   "outputs": [
    {
     "data": {
      "text/plain": [
       "Index(['id', 'player_fifa_api_id', 'player_api_id', 'date', 'overall_rating',\n",
       "       'potential', 'preferred_foot', 'attacking_work_rate',\n",
       "       'defensive_work_rate', 'crossing', 'finishing', 'heading_accuracy',\n",
       "       'short_passing', 'volleys', 'dribbling', 'curve', 'free_kick_accuracy',\n",
       "       'long_passing', 'ball_control', 'acceleration', 'sprint_speed',\n",
       "       'agility', 'reactions', 'balance', 'shot_power', 'jumping', 'stamina',\n",
       "       'strength', 'long_shots', 'aggression', 'interceptions', 'positioning',\n",
       "       'vision', 'penalties', 'marking', 'standing_tackle', 'sliding_tackle',\n",
       "       'gk_diving', 'gk_handling', 'gk_kicking', 'gk_positioning',\n",
       "       'gk_reflexes'],\n",
       "      dtype='object')"
      ]
     },
     "execution_count": 3,
     "metadata": {},
     "output_type": "execute_result"
    }
   ],
   "source": [
    "df.columns #Columns of dataframe df"
   ]
  },
  {
   "cell_type": "code",
   "execution_count": 4,
   "metadata": {},
   "outputs": [
    {
     "data": {
      "text/plain": [
       "(183978, 42)"
      ]
     },
     "execution_count": 4,
     "metadata": {},
     "output_type": "execute_result"
    }
   ],
   "source": [
    "df.shape"
   ]
  },
  {
   "cell_type": "code",
   "execution_count": 5,
   "metadata": {},
   "outputs": [
    {
     "data": {
      "text/html": [
       "<div>\n",
       "<style scoped>\n",
       "    .dataframe tbody tr th:only-of-type {\n",
       "        vertical-align: middle;\n",
       "    }\n",
       "\n",
       "    .dataframe tbody tr th {\n",
       "        vertical-align: top;\n",
       "    }\n",
       "\n",
       "    .dataframe thead th {\n",
       "        text-align: right;\n",
       "    }\n",
       "</style>\n",
       "<table border=\"1\" class=\"dataframe\">\n",
       "  <thead>\n",
       "    <tr style=\"text-align: right;\">\n",
       "      <th></th>\n",
       "      <th>id</th>\n",
       "      <th>player_fifa_api_id</th>\n",
       "      <th>player_api_id</th>\n",
       "      <th>overall_rating</th>\n",
       "      <th>potential</th>\n",
       "      <th>crossing</th>\n",
       "      <th>finishing</th>\n",
       "      <th>heading_accuracy</th>\n",
       "      <th>short_passing</th>\n",
       "      <th>volleys</th>\n",
       "      <th>...</th>\n",
       "      <th>vision</th>\n",
       "      <th>penalties</th>\n",
       "      <th>marking</th>\n",
       "      <th>standing_tackle</th>\n",
       "      <th>sliding_tackle</th>\n",
       "      <th>gk_diving</th>\n",
       "      <th>gk_handling</th>\n",
       "      <th>gk_kicking</th>\n",
       "      <th>gk_positioning</th>\n",
       "      <th>gk_reflexes</th>\n",
       "    </tr>\n",
       "  </thead>\n",
       "  <tbody>\n",
       "    <tr>\n",
       "      <th>count</th>\n",
       "      <td>183978.00000</td>\n",
       "      <td>183978.000000</td>\n",
       "      <td>183978.000000</td>\n",
       "      <td>183142.000000</td>\n",
       "      <td>183142.000000</td>\n",
       "      <td>183142.000000</td>\n",
       "      <td>183142.000000</td>\n",
       "      <td>183142.000000</td>\n",
       "      <td>183142.000000</td>\n",
       "      <td>181265.000000</td>\n",
       "      <td>...</td>\n",
       "      <td>181265.000000</td>\n",
       "      <td>183142.000000</td>\n",
       "      <td>183142.000000</td>\n",
       "      <td>183142.000000</td>\n",
       "      <td>181265.000000</td>\n",
       "      <td>183142.000000</td>\n",
       "      <td>183142.000000</td>\n",
       "      <td>183142.000000</td>\n",
       "      <td>183142.000000</td>\n",
       "      <td>183142.000000</td>\n",
       "    </tr>\n",
       "    <tr>\n",
       "      <th>mean</th>\n",
       "      <td>91989.50000</td>\n",
       "      <td>165671.524291</td>\n",
       "      <td>135900.617324</td>\n",
       "      <td>68.600015</td>\n",
       "      <td>73.460353</td>\n",
       "      <td>55.086883</td>\n",
       "      <td>49.921078</td>\n",
       "      <td>57.266023</td>\n",
       "      <td>62.429672</td>\n",
       "      <td>49.468436</td>\n",
       "      <td>...</td>\n",
       "      <td>57.873550</td>\n",
       "      <td>55.003986</td>\n",
       "      <td>46.772242</td>\n",
       "      <td>50.351257</td>\n",
       "      <td>48.001462</td>\n",
       "      <td>14.704393</td>\n",
       "      <td>16.063612</td>\n",
       "      <td>20.998362</td>\n",
       "      <td>16.132154</td>\n",
       "      <td>16.441439</td>\n",
       "    </tr>\n",
       "    <tr>\n",
       "      <th>std</th>\n",
       "      <td>53110.01825</td>\n",
       "      <td>53851.094769</td>\n",
       "      <td>136927.840510</td>\n",
       "      <td>7.041139</td>\n",
       "      <td>6.592271</td>\n",
       "      <td>17.242135</td>\n",
       "      <td>19.038705</td>\n",
       "      <td>16.488905</td>\n",
       "      <td>14.194068</td>\n",
       "      <td>18.256618</td>\n",
       "      <td>...</td>\n",
       "      <td>15.144086</td>\n",
       "      <td>15.546519</td>\n",
       "      <td>21.227667</td>\n",
       "      <td>21.483706</td>\n",
       "      <td>21.598778</td>\n",
       "      <td>16.865467</td>\n",
       "      <td>15.867382</td>\n",
       "      <td>21.452980</td>\n",
       "      <td>16.099175</td>\n",
       "      <td>17.198155</td>\n",
       "    </tr>\n",
       "    <tr>\n",
       "      <th>min</th>\n",
       "      <td>1.00000</td>\n",
       "      <td>2.000000</td>\n",
       "      <td>2625.000000</td>\n",
       "      <td>33.000000</td>\n",
       "      <td>39.000000</td>\n",
       "      <td>1.000000</td>\n",
       "      <td>1.000000</td>\n",
       "      <td>1.000000</td>\n",
       "      <td>3.000000</td>\n",
       "      <td>1.000000</td>\n",
       "      <td>...</td>\n",
       "      <td>1.000000</td>\n",
       "      <td>2.000000</td>\n",
       "      <td>1.000000</td>\n",
       "      <td>1.000000</td>\n",
       "      <td>2.000000</td>\n",
       "      <td>1.000000</td>\n",
       "      <td>1.000000</td>\n",
       "      <td>1.000000</td>\n",
       "      <td>1.000000</td>\n",
       "      <td>1.000000</td>\n",
       "    </tr>\n",
       "    <tr>\n",
       "      <th>25%</th>\n",
       "      <td>45995.25000</td>\n",
       "      <td>155798.000000</td>\n",
       "      <td>34763.000000</td>\n",
       "      <td>64.000000</td>\n",
       "      <td>69.000000</td>\n",
       "      <td>45.000000</td>\n",
       "      <td>34.000000</td>\n",
       "      <td>49.000000</td>\n",
       "      <td>57.000000</td>\n",
       "      <td>35.000000</td>\n",
       "      <td>...</td>\n",
       "      <td>49.000000</td>\n",
       "      <td>45.000000</td>\n",
       "      <td>25.000000</td>\n",
       "      <td>29.000000</td>\n",
       "      <td>25.000000</td>\n",
       "      <td>7.000000</td>\n",
       "      <td>8.000000</td>\n",
       "      <td>8.000000</td>\n",
       "      <td>8.000000</td>\n",
       "      <td>8.000000</td>\n",
       "    </tr>\n",
       "    <tr>\n",
       "      <th>50%</th>\n",
       "      <td>91989.50000</td>\n",
       "      <td>183488.000000</td>\n",
       "      <td>77741.000000</td>\n",
       "      <td>69.000000</td>\n",
       "      <td>74.000000</td>\n",
       "      <td>59.000000</td>\n",
       "      <td>53.000000</td>\n",
       "      <td>60.000000</td>\n",
       "      <td>65.000000</td>\n",
       "      <td>52.000000</td>\n",
       "      <td>...</td>\n",
       "      <td>60.000000</td>\n",
       "      <td>57.000000</td>\n",
       "      <td>50.000000</td>\n",
       "      <td>56.000000</td>\n",
       "      <td>53.000000</td>\n",
       "      <td>10.000000</td>\n",
       "      <td>11.000000</td>\n",
       "      <td>12.000000</td>\n",
       "      <td>11.000000</td>\n",
       "      <td>11.000000</td>\n",
       "    </tr>\n",
       "    <tr>\n",
       "      <th>75%</th>\n",
       "      <td>137983.75000</td>\n",
       "      <td>199848.000000</td>\n",
       "      <td>191080.000000</td>\n",
       "      <td>73.000000</td>\n",
       "      <td>78.000000</td>\n",
       "      <td>68.000000</td>\n",
       "      <td>65.000000</td>\n",
       "      <td>68.000000</td>\n",
       "      <td>72.000000</td>\n",
       "      <td>64.000000</td>\n",
       "      <td>...</td>\n",
       "      <td>69.000000</td>\n",
       "      <td>67.000000</td>\n",
       "      <td>66.000000</td>\n",
       "      <td>69.000000</td>\n",
       "      <td>67.000000</td>\n",
       "      <td>13.000000</td>\n",
       "      <td>15.000000</td>\n",
       "      <td>15.000000</td>\n",
       "      <td>15.000000</td>\n",
       "      <td>15.000000</td>\n",
       "    </tr>\n",
       "    <tr>\n",
       "      <th>max</th>\n",
       "      <td>183978.00000</td>\n",
       "      <td>234141.000000</td>\n",
       "      <td>750584.000000</td>\n",
       "      <td>94.000000</td>\n",
       "      <td>97.000000</td>\n",
       "      <td>95.000000</td>\n",
       "      <td>97.000000</td>\n",
       "      <td>98.000000</td>\n",
       "      <td>97.000000</td>\n",
       "      <td>93.000000</td>\n",
       "      <td>...</td>\n",
       "      <td>97.000000</td>\n",
       "      <td>96.000000</td>\n",
       "      <td>96.000000</td>\n",
       "      <td>95.000000</td>\n",
       "      <td>95.000000</td>\n",
       "      <td>94.000000</td>\n",
       "      <td>93.000000</td>\n",
       "      <td>97.000000</td>\n",
       "      <td>96.000000</td>\n",
       "      <td>96.000000</td>\n",
       "    </tr>\n",
       "  </tbody>\n",
       "</table>\n",
       "<p>8 rows × 38 columns</p>\n",
       "</div>"
      ],
      "text/plain": [
       "                 id  player_fifa_api_id  player_api_id  overall_rating  \\\n",
       "count  183978.00000       183978.000000  183978.000000   183142.000000   \n",
       "mean    91989.50000       165671.524291  135900.617324       68.600015   \n",
       "std     53110.01825        53851.094769  136927.840510        7.041139   \n",
       "min         1.00000            2.000000    2625.000000       33.000000   \n",
       "25%     45995.25000       155798.000000   34763.000000       64.000000   \n",
       "50%     91989.50000       183488.000000   77741.000000       69.000000   \n",
       "75%    137983.75000       199848.000000  191080.000000       73.000000   \n",
       "max    183978.00000       234141.000000  750584.000000       94.000000   \n",
       "\n",
       "           potential       crossing      finishing  heading_accuracy  \\\n",
       "count  183142.000000  183142.000000  183142.000000     183142.000000   \n",
       "mean       73.460353      55.086883      49.921078         57.266023   \n",
       "std         6.592271      17.242135      19.038705         16.488905   \n",
       "min        39.000000       1.000000       1.000000          1.000000   \n",
       "25%        69.000000      45.000000      34.000000         49.000000   \n",
       "50%        74.000000      59.000000      53.000000         60.000000   \n",
       "75%        78.000000      68.000000      65.000000         68.000000   \n",
       "max        97.000000      95.000000      97.000000         98.000000   \n",
       "\n",
       "       short_passing        volleys      ...               vision  \\\n",
       "count  183142.000000  181265.000000      ...        181265.000000   \n",
       "mean       62.429672      49.468436      ...            57.873550   \n",
       "std        14.194068      18.256618      ...            15.144086   \n",
       "min         3.000000       1.000000      ...             1.000000   \n",
       "25%        57.000000      35.000000      ...            49.000000   \n",
       "50%        65.000000      52.000000      ...            60.000000   \n",
       "75%        72.000000      64.000000      ...            69.000000   \n",
       "max        97.000000      93.000000      ...            97.000000   \n",
       "\n",
       "           penalties        marking  standing_tackle  sliding_tackle  \\\n",
       "count  183142.000000  183142.000000    183142.000000   181265.000000   \n",
       "mean       55.003986      46.772242        50.351257       48.001462   \n",
       "std        15.546519      21.227667        21.483706       21.598778   \n",
       "min         2.000000       1.000000         1.000000        2.000000   \n",
       "25%        45.000000      25.000000        29.000000       25.000000   \n",
       "50%        57.000000      50.000000        56.000000       53.000000   \n",
       "75%        67.000000      66.000000        69.000000       67.000000   \n",
       "max        96.000000      96.000000        95.000000       95.000000   \n",
       "\n",
       "           gk_diving    gk_handling     gk_kicking  gk_positioning  \\\n",
       "count  183142.000000  183142.000000  183142.000000   183142.000000   \n",
       "mean       14.704393      16.063612      20.998362       16.132154   \n",
       "std        16.865467      15.867382      21.452980       16.099175   \n",
       "min         1.000000       1.000000       1.000000        1.000000   \n",
       "25%         7.000000       8.000000       8.000000        8.000000   \n",
       "50%        10.000000      11.000000      12.000000       11.000000   \n",
       "75%        13.000000      15.000000      15.000000       15.000000   \n",
       "max        94.000000      93.000000      97.000000       96.000000   \n",
       "\n",
       "         gk_reflexes  \n",
       "count  183142.000000  \n",
       "mean       16.441439  \n",
       "std        17.198155  \n",
       "min         1.000000  \n",
       "25%         8.000000  \n",
       "50%        11.000000  \n",
       "75%        15.000000  \n",
       "max        96.000000  \n",
       "\n",
       "[8 rows x 38 columns]"
      ]
     },
     "execution_count": 5,
     "metadata": {},
     "output_type": "execute_result"
    }
   ],
   "source": [
    "df.describe()"
   ]
  },
  {
   "cell_type": "code",
   "execution_count": 6,
   "metadata": {},
   "outputs": [
    {
     "name": "stdout",
     "output_type": "stream",
     "text": [
      "<class 'pandas.core.frame.DataFrame'>\n",
      "RangeIndex: 183978 entries, 0 to 183977\n",
      "Data columns (total 42 columns):\n",
      "id                     183978 non-null int64\n",
      "player_fifa_api_id     183978 non-null int64\n",
      "player_api_id          183978 non-null int64\n",
      "date                   183978 non-null object\n",
      "overall_rating         183142 non-null float64\n",
      "potential              183142 non-null float64\n",
      "preferred_foot         183142 non-null object\n",
      "attacking_work_rate    180748 non-null object\n",
      "defensive_work_rate    183142 non-null object\n",
      "crossing               183142 non-null float64\n",
      "finishing              183142 non-null float64\n",
      "heading_accuracy       183142 non-null float64\n",
      "short_passing          183142 non-null float64\n",
      "volleys                181265 non-null float64\n",
      "dribbling              183142 non-null float64\n",
      "curve                  181265 non-null float64\n",
      "free_kick_accuracy     183142 non-null float64\n",
      "long_passing           183142 non-null float64\n",
      "ball_control           183142 non-null float64\n",
      "acceleration           183142 non-null float64\n",
      "sprint_speed           183142 non-null float64\n",
      "agility                181265 non-null float64\n",
      "reactions              183142 non-null float64\n",
      "balance                181265 non-null float64\n",
      "shot_power             183142 non-null float64\n",
      "jumping                181265 non-null float64\n",
      "stamina                183142 non-null float64\n",
      "strength               183142 non-null float64\n",
      "long_shots             183142 non-null float64\n",
      "aggression             183142 non-null float64\n",
      "interceptions          183142 non-null float64\n",
      "positioning            183142 non-null float64\n",
      "vision                 181265 non-null float64\n",
      "penalties              183142 non-null float64\n",
      "marking                183142 non-null float64\n",
      "standing_tackle        183142 non-null float64\n",
      "sliding_tackle         181265 non-null float64\n",
      "gk_diving              183142 non-null float64\n",
      "gk_handling            183142 non-null float64\n",
      "gk_kicking             183142 non-null float64\n",
      "gk_positioning         183142 non-null float64\n",
      "gk_reflexes            183142 non-null float64\n",
      "dtypes: float64(35), int64(3), object(4)\n",
      "memory usage: 59.0+ MB\n"
     ]
    }
   ],
   "source": [
    "df.info()"
   ]
  },
  {
   "cell_type": "markdown",
   "metadata": {},
   "source": [
    "## Data Cleaning"
   ]
  },
  {
   "cell_type": "code",
   "execution_count": 7,
   "metadata": {},
   "outputs": [],
   "source": [
    "#All Columns\n",
    "#['id', 'player_fifa_api_id', 'player_api_id', 'date', 'overall_rating', 'potential', 'preferred_foot', \n",
    "#  'attacking_work_rate', 'defensive_work_rate', 'crossing', 'finishing', 'heading_accuracy',\n",
    "#  'short_passing', 'volleys', 'dribbling', 'curve', 'free_kick_accuracy','long_passing', 'ball_control', 'acceleration', \n",
    "#  'sprint_speed','agility', 'reactions', 'balance', 'shot_power', 'jumping', 'stamina', 'strength', 'long_shots', \n",
    "#  'aggression', 'interceptions', 'positioning','vision', 'penalties', 'marking', 'standing_tackle', 'sliding_tackle',\n",
    "#  'gk_diving', 'gk_handling', 'gk_kicking', 'gk_positioning', 'gk_reflexes']\n"
   ]
  },
  {
   "cell_type": "code",
   "execution_count": 8,
   "metadata": {},
   "outputs": [
    {
     "name": "stdout",
     "output_type": "stream",
     "text": [
      "imported dataset >> \n",
      "--------------------------------------------------\n",
      "   id  player_fifa_api_id  player_api_id                 date  overall_rating  \\\n",
      "0   1              218353         505942  2016-02-18 00:00:00            67.0   \n",
      "1   2              218353         505942  2015-11-19 00:00:00            67.0   \n",
      "2   3              218353         505942  2015-09-21 00:00:00            62.0   \n",
      "3   4              218353         505942  2015-03-20 00:00:00            61.0   \n",
      "4   5              218353         505942  2007-02-22 00:00:00            61.0   \n",
      "\n",
      "   potential preferred_foot attacking_work_rate defensive_work_rate  crossing  \\\n",
      "0       71.0          right              medium              medium      49.0   \n",
      "1       71.0          right              medium              medium      49.0   \n",
      "2       66.0          right              medium              medium      49.0   \n",
      "3       65.0          right              medium              medium      48.0   \n",
      "4       65.0          right              medium              medium      48.0   \n",
      "\n",
      "      ...       vision  penalties  marking  standing_tackle  sliding_tackle  \\\n",
      "0     ...         54.0       48.0     65.0             69.0            69.0   \n",
      "1     ...         54.0       48.0     65.0             69.0            69.0   \n",
      "2     ...         54.0       48.0     65.0             66.0            69.0   \n",
      "3     ...         53.0       47.0     62.0             63.0            66.0   \n",
      "4     ...         53.0       47.0     62.0             63.0            66.0   \n",
      "\n",
      "   gk_diving  gk_handling  gk_kicking  gk_positioning  gk_reflexes  \n",
      "0        6.0         11.0        10.0             8.0          8.0  \n",
      "1        6.0         11.0        10.0             8.0          8.0  \n",
      "2        6.0         11.0        10.0             8.0          8.0  \n",
      "3        5.0         10.0         9.0             7.0          7.0  \n",
      "4        5.0         10.0         9.0             7.0          7.0  \n",
      "\n",
      "[5 rows x 42 columns]\n",
      "--------------------------------------------------\n",
      "Dropping the columns ['id', 'player_fifa_api_id', 'player_api_id'\n",
      "As these fields are not not having significant data\n",
      "--------------------------------------------------\n"
     ]
    }
   ],
   "source": [
    "# Dropping the columns ['id', 'player_fifa_api_id', 'player_api_id', \\\n",
    "# 'date', 'attacking_work_rate', 'defensive_work_rate']\n",
    "# As these fields are not not having significant data\n",
    "print(\"imported dataset >> \")\n",
    "print('-'*50)\n",
    "print(df.head(5))\n",
    "print('-'*50)\n",
    "print(\"Dropping the columns ['id', 'player_fifa_api_id', 'player_api_id'\")\n",
    "#print(\"'date', 'attacking_work_rate', 'defensive_work_rate'\")\n",
    "print(\"As these fields are not not having significant data\")\n",
    "print('-'*50)\n",
    "#df.drop(['id', 'player_fifa_api_id', 'player_api_id', \\\n",
    "#              'date', \\\n",
    "#              'attacking_work_rate', \\\n",
    "#              'defensive_work_rate'], \\\n",
    "#                axis=1, inplace=True)\n",
    "df.drop(['id', 'player_fifa_api_id', 'player_api_id'], axis=1, inplace=True)\n"
   ]
  },
  {
   "cell_type": "code",
   "execution_count": 9,
   "metadata": {},
   "outputs": [
    {
     "data": {
      "text/plain": [
       "(183978, 39)"
      ]
     },
     "execution_count": 9,
     "metadata": {},
     "output_type": "execute_result"
    }
   ],
   "source": [
    "df.shape"
   ]
  },
  {
   "cell_type": "code",
   "execution_count": 10,
   "metadata": {},
   "outputs": [
    {
     "data": {
      "text/plain": [
       "183978"
      ]
     },
     "execution_count": 10,
     "metadata": {},
     "output_type": "execute_result"
    }
   ],
   "source": [
    "# rows count before dropping NA\n",
    "rows_before_dropping = df.shape[0]\n",
    "rows_before_dropping"
   ]
  },
  {
   "cell_type": "code",
   "execution_count": 11,
   "metadata": {},
   "outputs": [
    {
     "data": {
      "text/plain": [
       "date                      0\n",
       "overall_rating          836\n",
       "potential               836\n",
       "preferred_foot          836\n",
       "attacking_work_rate    3230\n",
       "defensive_work_rate     836\n",
       "crossing                836\n",
       "finishing               836\n",
       "heading_accuracy        836\n",
       "short_passing           836\n",
       "volleys                2713\n",
       "dribbling               836\n",
       "curve                  2713\n",
       "free_kick_accuracy      836\n",
       "long_passing            836\n",
       "ball_control            836\n",
       "acceleration            836\n",
       "sprint_speed            836\n",
       "agility                2713\n",
       "reactions               836\n",
       "balance                2713\n",
       "shot_power              836\n",
       "jumping                2713\n",
       "stamina                 836\n",
       "strength                836\n",
       "long_shots              836\n",
       "aggression              836\n",
       "interceptions           836\n",
       "positioning             836\n",
       "vision                 2713\n",
       "penalties               836\n",
       "marking                 836\n",
       "standing_tackle         836\n",
       "sliding_tackle         2713\n",
       "gk_diving               836\n",
       "gk_handling             836\n",
       "gk_kicking              836\n",
       "gk_positioning          836\n",
       "gk_reflexes             836\n",
       "dtype: int64"
      ]
     },
     "execution_count": 11,
     "metadata": {},
     "output_type": "execute_result"
    }
   ],
   "source": [
    "# Check null\n",
    "df.isnull().sum()"
   ]
  },
  {
   "cell_type": "code",
   "execution_count": 12,
   "metadata": {},
   "outputs": [],
   "source": [
    "# Dropping the nulls\n",
    "df = df.dropna()"
   ]
  },
  {
   "cell_type": "code",
   "execution_count": 13,
   "metadata": {},
   "outputs": [
    {
     "data": {
      "text/plain": [
       "180354"
      ]
     },
     "execution_count": 13,
     "metadata": {},
     "output_type": "execute_result"
    }
   ],
   "source": [
    "# rows count after dropping NA\n",
    "rows_after_dropping = df.shape[0]\n",
    "rows_after_dropping"
   ]
  },
  {
   "cell_type": "code",
   "execution_count": 14,
   "metadata": {},
   "outputs": [
    {
     "data": {
      "text/plain": [
       "date                   0\n",
       "overall_rating         0\n",
       "potential              0\n",
       "preferred_foot         0\n",
       "attacking_work_rate    0\n",
       "defensive_work_rate    0\n",
       "crossing               0\n",
       "finishing              0\n",
       "heading_accuracy       0\n",
       "short_passing          0\n",
       "volleys                0\n",
       "dribbling              0\n",
       "curve                  0\n",
       "free_kick_accuracy     0\n",
       "long_passing           0\n",
       "ball_control           0\n",
       "acceleration           0\n",
       "sprint_speed           0\n",
       "agility                0\n",
       "reactions              0\n",
       "balance                0\n",
       "shot_power             0\n",
       "jumping                0\n",
       "stamina                0\n",
       "strength               0\n",
       "long_shots             0\n",
       "aggression             0\n",
       "interceptions          0\n",
       "positioning            0\n",
       "vision                 0\n",
       "penalties              0\n",
       "marking                0\n",
       "standing_tackle        0\n",
       "sliding_tackle         0\n",
       "gk_diving              0\n",
       "gk_handling            0\n",
       "gk_kicking             0\n",
       "gk_positioning         0\n",
       "gk_reflexes            0\n",
       "dtype: int64"
      ]
     },
     "execution_count": 14,
     "metadata": {},
     "output_type": "execute_result"
    }
   ],
   "source": [
    "# Check null again\n",
    "df.isnull().sum()"
   ]
  },
  {
   "cell_type": "code",
   "execution_count": 15,
   "metadata": {},
   "outputs": [
    {
     "name": "stdout",
     "output_type": "stream",
     "text": [
      "Total number of rows dropped is 3624 wich is 1.97% of total rows.\n",
      "--------------------------------------------------\n"
     ]
    }
   ],
   "source": [
    "# number of rows dropped\n",
    "diff = rows_before_dropping - rows_after_dropping\n",
    "diff\n",
    "print(\"Total number of rows dropped is {} wich is {:.4}% of total rows.\"   \\\n",
    "              .format(diff,(diff/rows_before_dropping)*100))\n",
    "print('-'*50)"
   ]
  },
  {
   "cell_type": "code",
   "execution_count": 16,
   "metadata": {},
   "outputs": [],
   "source": [
    "#checking for attacking_work_rate column and defensive_work_rate column for any specific details and updating them "
   ]
  },
  {
   "cell_type": "code",
   "execution_count": 17,
   "metadata": {},
   "outputs": [
    {
     "data": {
      "text/plain": [
       "(180354, 39)"
      ]
     },
     "execution_count": 17,
     "metadata": {},
     "output_type": "execute_result"
    }
   ],
   "source": [
    "df.shape"
   ]
  },
  {
   "cell_type": "code",
   "execution_count": 18,
   "metadata": {},
   "outputs": [
    {
     "data": {
      "text/plain": [
       "array(['medium', 'high', 'low', 'None', 'le', 'norm', 'stoc', 'y'],\n",
       "      dtype=object)"
      ]
     },
     "execution_count": 18,
     "metadata": {},
     "output_type": "execute_result"
    }
   ],
   "source": [
    "df['attacking_work_rate'].unique()"
   ]
  },
  {
   "cell_type": "code",
   "execution_count": 19,
   "metadata": {},
   "outputs": [
    {
     "data": {
      "text/plain": [
       "array(['medium', 'high', 'low', '5', 'ean', 'o', '1', 'ormal', '7', '2',\n",
       "       '8', '4', 'tocky', '0', '3', '6', '9', 'es'], dtype=object)"
      ]
     },
     "execution_count": 19,
     "metadata": {},
     "output_type": "execute_result"
    }
   ],
   "source": [
    "df['defensive_work_rate'].unique()"
   ]
  },
  {
   "cell_type": "code",
   "execution_count": 20,
   "metadata": {},
   "outputs": [
    {
     "data": {
      "text/plain": [
       "medium    125070\n",
       "high       42823\n",
       "low         8569\n",
       "None        3317\n",
       "norm         317\n",
       "y             94\n",
       "stoc          86\n",
       "le            78\n",
       "Name: attacking_work_rate, dtype: int64"
      ]
     },
     "execution_count": 20,
     "metadata": {},
     "output_type": "execute_result"
    }
   ],
   "source": [
    "df['attacking_work_rate'].value_counts()"
   ]
  },
  {
   "cell_type": "code",
   "execution_count": 21,
   "metadata": {},
   "outputs": [
    {
     "data": {
      "text/plain": [
       "(180354, 39)"
      ]
     },
     "execution_count": 21,
     "metadata": {},
     "output_type": "execute_result"
    }
   ],
   "source": [
    "df.shape"
   ]
  },
  {
   "cell_type": "code",
   "execution_count": 22,
   "metadata": {},
   "outputs": [],
   "source": [
    "def updateAttackingRate(x):\n",
    "    list2=[\"medium\",\"norm\",\"y\",\"stoc\"]\n",
    "    list1=[\"low\",\"le\"]\n",
    "    list3=[\"high\"]\n",
    "    if    x['attacking_work_rate'] in list2   : return \"medium\"\n",
    "    elif  x['attacking_work_rate'] in list3   : return \"high\"\n",
    "    elif  x['attacking_work_rate'] in list1   : return \"low\"\n",
    "    elif  x['attacking_work_rate'] == \"None\"  : return \"None\"\n",
    "\n",
    "\n",
    "df['attacking_rate']= df.apply(updateAttackingRate,axis=1)"
   ]
  },
  {
   "cell_type": "code",
   "execution_count": 23,
   "metadata": {},
   "outputs": [
    {
     "data": {
      "text/plain": [
       "medium    125070\n",
       "high       42823\n",
       "low         8569\n",
       "None        3317\n",
       "norm         317\n",
       "y             94\n",
       "stoc          86\n",
       "le            78\n",
       "Name: attacking_work_rate, dtype: int64"
      ]
     },
     "execution_count": 23,
     "metadata": {},
     "output_type": "execute_result"
    }
   ],
   "source": [
    "df['attacking_work_rate'].value_counts()"
   ]
  },
  {
   "cell_type": "code",
   "execution_count": 24,
   "metadata": {},
   "outputs": [
    {
     "data": {
      "text/plain": [
       "medium    125567\n",
       "high       42823\n",
       "low         8647\n",
       "None        3317\n",
       "Name: attacking_rate, dtype: int64"
      ]
     },
     "execution_count": 24,
     "metadata": {},
     "output_type": "execute_result"
    }
   ],
   "source": [
    "df['attacking_rate'].value_counts()"
   ]
  },
  {
   "cell_type": "code",
   "execution_count": 25,
   "metadata": {},
   "outputs": [
    {
     "data": {
      "text/plain": [
       "medium    130846\n",
       "high       27041\n",
       "low        18432\n",
       "o           1328\n",
       "1            421\n",
       "2            334\n",
       "ormal        317\n",
       "3            243\n",
       "5            231\n",
       "7            207\n",
       "0            188\n",
       "6            179\n",
       "9            143\n",
       "4            116\n",
       "es            94\n",
       "tocky         86\n",
       "ean           78\n",
       "8             70\n",
       "Name: defensive_work_rate, dtype: int64"
      ]
     },
     "execution_count": 25,
     "metadata": {},
     "output_type": "execute_result"
    }
   ],
   "source": [
    "df['defensive_work_rate'].value_counts()"
   ]
  },
  {
   "cell_type": "code",
   "execution_count": 26,
   "metadata": {},
   "outputs": [],
   "source": [
    "# 0 1 2 - low\n",
    "# 3 4 5 6 - medium\n",
    "# 7 8 9 - high\n",
    "\n",
    "def updateDefensiveRate(x):\n",
    "    list1=['low','_0','0','o','1','2']\n",
    "    list2=['medium','tocky','ean','es','ormal','3','4','5','6']\n",
    "    list3=['high','7','8','9']\n",
    "    \n",
    "    if    x['defensive_work_rate'] in list1  : return \"low\"\n",
    "    elif  x['defensive_work_rate'] in list2   : return \"medium\"\n",
    "    elif  x['defensive_work_rate'] in list3   : return \"high\"\n",
    "\n",
    "\n",
    "df['defensive_rate']= df.apply(updateDefensiveRate,axis=1)"
   ]
  },
  {
   "cell_type": "code",
   "execution_count": 27,
   "metadata": {},
   "outputs": [
    {
     "data": {
      "text/plain": [
       "medium    130846\n",
       "high       27041\n",
       "low        18432\n",
       "o           1328\n",
       "1            421\n",
       "2            334\n",
       "ormal        317\n",
       "3            243\n",
       "5            231\n",
       "7            207\n",
       "0            188\n",
       "6            179\n",
       "9            143\n",
       "4            116\n",
       "es            94\n",
       "tocky         86\n",
       "ean           78\n",
       "8             70\n",
       "Name: defensive_work_rate, dtype: int64"
      ]
     },
     "execution_count": 27,
     "metadata": {},
     "output_type": "execute_result"
    }
   ],
   "source": [
    "df['defensive_work_rate'].value_counts()"
   ]
  },
  {
   "cell_type": "code",
   "execution_count": 28,
   "metadata": {},
   "outputs": [
    {
     "data": {
      "text/plain": [
       "medium    132190\n",
       "high       27461\n",
       "low        20703\n",
       "Name: defensive_rate, dtype: int64"
      ]
     },
     "execution_count": 28,
     "metadata": {},
     "output_type": "execute_result"
    }
   ],
   "source": [
    "df['defensive_rate'].value_counts()"
   ]
  },
  {
   "cell_type": "code",
   "execution_count": 29,
   "metadata": {},
   "outputs": [],
   "source": [
    "# Observing above values we can conclue that attacking_work_rate & defensive_work_rate do not hold information related to \n",
    "# analysis and can also be dropped"
   ]
  },
  {
   "cell_type": "code",
   "execution_count": 30,
   "metadata": {},
   "outputs": [
    {
     "data": {
      "text/plain": [
       "(180354, 41)"
      ]
     },
     "execution_count": 30,
     "metadata": {},
     "output_type": "execute_result"
    }
   ],
   "source": [
    "df.shape"
   ]
  },
  {
   "cell_type": "code",
   "execution_count": 31,
   "metadata": {},
   "outputs": [],
   "source": [
    "df = df.drop('defensive_work_rate', 1)"
   ]
  },
  {
   "cell_type": "code",
   "execution_count": 32,
   "metadata": {},
   "outputs": [],
   "source": [
    "df = df.drop('attacking_work_rate', 1)"
   ]
  },
  {
   "cell_type": "code",
   "execution_count": 33,
   "metadata": {},
   "outputs": [
    {
     "data": {
      "text/plain": [
       "(180354, 39)"
      ]
     },
     "execution_count": 33,
     "metadata": {},
     "output_type": "execute_result"
    }
   ],
   "source": [
    "df.shape"
   ]
  },
  {
   "cell_type": "code",
   "execution_count": 34,
   "metadata": {},
   "outputs": [
    {
     "data": {
      "text/html": [
       "<div>\n",
       "<style scoped>\n",
       "    .dataframe tbody tr th:only-of-type {\n",
       "        vertical-align: middle;\n",
       "    }\n",
       "\n",
       "    .dataframe tbody tr th {\n",
       "        vertical-align: top;\n",
       "    }\n",
       "\n",
       "    .dataframe thead th {\n",
       "        text-align: right;\n",
       "    }\n",
       "</style>\n",
       "<table border=\"1\" class=\"dataframe\">\n",
       "  <thead>\n",
       "    <tr style=\"text-align: right;\">\n",
       "      <th></th>\n",
       "      <th>date</th>\n",
       "      <th>overall_rating</th>\n",
       "      <th>potential</th>\n",
       "      <th>preferred_foot</th>\n",
       "      <th>crossing</th>\n",
       "      <th>finishing</th>\n",
       "      <th>heading_accuracy</th>\n",
       "      <th>short_passing</th>\n",
       "      <th>volleys</th>\n",
       "      <th>dribbling</th>\n",
       "      <th>...</th>\n",
       "      <th>marking</th>\n",
       "      <th>standing_tackle</th>\n",
       "      <th>sliding_tackle</th>\n",
       "      <th>gk_diving</th>\n",
       "      <th>gk_handling</th>\n",
       "      <th>gk_kicking</th>\n",
       "      <th>gk_positioning</th>\n",
       "      <th>gk_reflexes</th>\n",
       "      <th>attacking_rate</th>\n",
       "      <th>defensive_rate</th>\n",
       "    </tr>\n",
       "  </thead>\n",
       "  <tbody>\n",
       "    <tr>\n",
       "      <th>0</th>\n",
       "      <td>2016-02-18 00:00:00</td>\n",
       "      <td>67.0</td>\n",
       "      <td>71.0</td>\n",
       "      <td>right</td>\n",
       "      <td>49.0</td>\n",
       "      <td>44.0</td>\n",
       "      <td>71.0</td>\n",
       "      <td>61.0</td>\n",
       "      <td>44.0</td>\n",
       "      <td>51.0</td>\n",
       "      <td>...</td>\n",
       "      <td>65.0</td>\n",
       "      <td>69.0</td>\n",
       "      <td>69.0</td>\n",
       "      <td>6.0</td>\n",
       "      <td>11.0</td>\n",
       "      <td>10.0</td>\n",
       "      <td>8.0</td>\n",
       "      <td>8.0</td>\n",
       "      <td>medium</td>\n",
       "      <td>medium</td>\n",
       "    </tr>\n",
       "    <tr>\n",
       "      <th>1</th>\n",
       "      <td>2015-11-19 00:00:00</td>\n",
       "      <td>67.0</td>\n",
       "      <td>71.0</td>\n",
       "      <td>right</td>\n",
       "      <td>49.0</td>\n",
       "      <td>44.0</td>\n",
       "      <td>71.0</td>\n",
       "      <td>61.0</td>\n",
       "      <td>44.0</td>\n",
       "      <td>51.0</td>\n",
       "      <td>...</td>\n",
       "      <td>65.0</td>\n",
       "      <td>69.0</td>\n",
       "      <td>69.0</td>\n",
       "      <td>6.0</td>\n",
       "      <td>11.0</td>\n",
       "      <td>10.0</td>\n",
       "      <td>8.0</td>\n",
       "      <td>8.0</td>\n",
       "      <td>medium</td>\n",
       "      <td>medium</td>\n",
       "    </tr>\n",
       "    <tr>\n",
       "      <th>2</th>\n",
       "      <td>2015-09-21 00:00:00</td>\n",
       "      <td>62.0</td>\n",
       "      <td>66.0</td>\n",
       "      <td>right</td>\n",
       "      <td>49.0</td>\n",
       "      <td>44.0</td>\n",
       "      <td>71.0</td>\n",
       "      <td>61.0</td>\n",
       "      <td>44.0</td>\n",
       "      <td>51.0</td>\n",
       "      <td>...</td>\n",
       "      <td>65.0</td>\n",
       "      <td>66.0</td>\n",
       "      <td>69.0</td>\n",
       "      <td>6.0</td>\n",
       "      <td>11.0</td>\n",
       "      <td>10.0</td>\n",
       "      <td>8.0</td>\n",
       "      <td>8.0</td>\n",
       "      <td>medium</td>\n",
       "      <td>medium</td>\n",
       "    </tr>\n",
       "    <tr>\n",
       "      <th>3</th>\n",
       "      <td>2015-03-20 00:00:00</td>\n",
       "      <td>61.0</td>\n",
       "      <td>65.0</td>\n",
       "      <td>right</td>\n",
       "      <td>48.0</td>\n",
       "      <td>43.0</td>\n",
       "      <td>70.0</td>\n",
       "      <td>60.0</td>\n",
       "      <td>43.0</td>\n",
       "      <td>50.0</td>\n",
       "      <td>...</td>\n",
       "      <td>62.0</td>\n",
       "      <td>63.0</td>\n",
       "      <td>66.0</td>\n",
       "      <td>5.0</td>\n",
       "      <td>10.0</td>\n",
       "      <td>9.0</td>\n",
       "      <td>7.0</td>\n",
       "      <td>7.0</td>\n",
       "      <td>medium</td>\n",
       "      <td>medium</td>\n",
       "    </tr>\n",
       "    <tr>\n",
       "      <th>4</th>\n",
       "      <td>2007-02-22 00:00:00</td>\n",
       "      <td>61.0</td>\n",
       "      <td>65.0</td>\n",
       "      <td>right</td>\n",
       "      <td>48.0</td>\n",
       "      <td>43.0</td>\n",
       "      <td>70.0</td>\n",
       "      <td>60.0</td>\n",
       "      <td>43.0</td>\n",
       "      <td>50.0</td>\n",
       "      <td>...</td>\n",
       "      <td>62.0</td>\n",
       "      <td>63.0</td>\n",
       "      <td>66.0</td>\n",
       "      <td>5.0</td>\n",
       "      <td>10.0</td>\n",
       "      <td>9.0</td>\n",
       "      <td>7.0</td>\n",
       "      <td>7.0</td>\n",
       "      <td>medium</td>\n",
       "      <td>medium</td>\n",
       "    </tr>\n",
       "  </tbody>\n",
       "</table>\n",
       "<p>5 rows × 39 columns</p>\n",
       "</div>"
      ],
      "text/plain": [
       "                  date  overall_rating  potential preferred_foot  crossing  \\\n",
       "0  2016-02-18 00:00:00            67.0       71.0          right      49.0   \n",
       "1  2015-11-19 00:00:00            67.0       71.0          right      49.0   \n",
       "2  2015-09-21 00:00:00            62.0       66.0          right      49.0   \n",
       "3  2015-03-20 00:00:00            61.0       65.0          right      48.0   \n",
       "4  2007-02-22 00:00:00            61.0       65.0          right      48.0   \n",
       "\n",
       "   finishing  heading_accuracy  short_passing  volleys  dribbling  \\\n",
       "0       44.0              71.0           61.0     44.0       51.0   \n",
       "1       44.0              71.0           61.0     44.0       51.0   \n",
       "2       44.0              71.0           61.0     44.0       51.0   \n",
       "3       43.0              70.0           60.0     43.0       50.0   \n",
       "4       43.0              70.0           60.0     43.0       50.0   \n",
       "\n",
       "        ...        marking  standing_tackle  sliding_tackle  gk_diving  \\\n",
       "0       ...           65.0             69.0            69.0        6.0   \n",
       "1       ...           65.0             69.0            69.0        6.0   \n",
       "2       ...           65.0             66.0            69.0        6.0   \n",
       "3       ...           62.0             63.0            66.0        5.0   \n",
       "4       ...           62.0             63.0            66.0        5.0   \n",
       "\n",
       "   gk_handling  gk_kicking  gk_positioning  gk_reflexes  attacking_rate  \\\n",
       "0         11.0        10.0             8.0          8.0          medium   \n",
       "1         11.0        10.0             8.0          8.0          medium   \n",
       "2         11.0        10.0             8.0          8.0          medium   \n",
       "3         10.0         9.0             7.0          7.0          medium   \n",
       "4         10.0         9.0             7.0          7.0          medium   \n",
       "\n",
       "   defensive_rate  \n",
       "0          medium  \n",
       "1          medium  \n",
       "2          medium  \n",
       "3          medium  \n",
       "4          medium  \n",
       "\n",
       "[5 rows x 39 columns]"
      ]
     },
     "execution_count": 34,
     "metadata": {},
     "output_type": "execute_result"
    }
   ],
   "source": [
    "df.head()"
   ]
  },
  {
   "cell_type": "markdown",
   "metadata": {},
   "source": [
    "## Data Visualization"
   ]
  },
  {
   "cell_type": "markdown",
   "metadata": {},
   "source": [
    "### Histogram Plot"
   ]
  },
  {
   "cell_type": "code",
   "execution_count": 35,
   "metadata": {},
   "outputs": [
    {
     "name": "stdout",
     "output_type": "stream",
     "text": [
      "['overall_rating', 'potential', 'preferred_foot', 'crossing', 'finishing', 'heading_accuracy', 'short_passing', 'volleys', 'dribbling', 'curve', 'free_kick_accuracy', 'long_passing', 'ball_control', 'acceleration', 'sprint_speed', 'agility', 'reactions', 'balance', 'shot_power', 'jumping', 'stamina', 'strength', 'long_shots', 'aggression', 'interceptions', 'positioning', 'vision', 'penalties', 'marking', 'standing_tackle', 'sliding_tackle', 'gk_diving', 'gk_handling', 'gk_kicking', 'gk_positioning', 'gk_reflexes', 'attacking_rate', 'defensive_rate']\n"
     ]
    }
   ],
   "source": [
    "clms = list(df.columns[1:]) #Listing the columns of dataframe df starting from 2nd column\n",
    "print(clms) #Printing clms list "
   ]
  },
  {
   "cell_type": "code",
   "execution_count": 36,
   "metadata": {},
   "outputs": [
    {
     "data": {
      "text/plain": [
       "38"
      ]
     },
     "execution_count": 36,
     "metadata": {},
     "output_type": "execute_result"
    }
   ],
   "source": [
    "len(clms) #Lenth of the clms list"
   ]
  },
  {
   "cell_type": "code",
   "execution_count": 37,
   "metadata": {},
   "outputs": [
    {
     "data": {
      "image/png": "[encoded data removed]",
      "text/plain": [
       "<Figure size 1152x864 with 40 Axes>"
      ]
     },
     "metadata": {},
     "output_type": "display_data"
    }
   ],
   "source": [
    "fig, axes = plt.subplots(10, 4, figsize=(16, 12))\n",
    "for i,ax in enumerate(axes.flat):\n",
    "#    print(i)\n",
    "#    print(ax)\n",
    "    if i == 2 or i == 36 or i ==37 :  #skipping for string data ie preferred_foot,attacking_rate,defensive_rate\n",
    "        continue\n",
    "    if i < len(clms):\n",
    "        ax.hist(df[clms[i]])\n",
    "        ax.set_title(clms[i])\n",
    "plt.tight_layout()\n",
    "plt.show()"
   ]
  },
  {
   "cell_type": "code",
   "execution_count": 38,
   "metadata": {},
   "outputs": [
    {
     "data": {
      "text/plain": [
       "array(['right', 'left'], dtype=object)"
      ]
     },
     "execution_count": 38,
     "metadata": {},
     "output_type": "execute_result"
    }
   ],
   "source": [
    "df['preferred_foot'].unique()"
   ]
  },
  {
   "cell_type": "code",
   "execution_count": 39,
   "metadata": {},
   "outputs": [
    {
     "data": {
      "text/plain": [
       "right    136247\n",
       "left      44107\n",
       "Name: preferred_foot, dtype: int64"
      ]
     },
     "execution_count": 39,
     "metadata": {},
     "output_type": "execute_result"
    }
   ],
   "source": [
    "df['preferred_foot'].value_counts()"
   ]
  },
  {
   "cell_type": "code",
   "execution_count": 40,
   "metadata": {},
   "outputs": [
    {
     "data": {
      "text/plain": [
       "<matplotlib.axes._subplots.AxesSubplot at 0x15c33cc8128>"
      ]
     },
     "execution_count": 40,
     "metadata": {},
     "output_type": "execute_result"
    },
    {
     "data": {
      "image/png": "[encoded data removed]",
      "text/plain": [
       "<Figure size 432x288 with 1 Axes>"
      ]
     },
     "metadata": {},
     "output_type": "display_data"
    }
   ],
   "source": [
    "df['preferred_foot'].value_counts().plot(kind='bar')"
   ]
  },
  {
   "cell_type": "code",
   "execution_count": 41,
   "metadata": {},
   "outputs": [
    {
     "data": {
      "text/plain": [
       "array(['medium', 'high', 'low', 'None'], dtype=object)"
      ]
     },
     "execution_count": 41,
     "metadata": {},
     "output_type": "execute_result"
    }
   ],
   "source": [
    "df['attacking_rate'].unique()"
   ]
  },
  {
   "cell_type": "code",
   "execution_count": 42,
   "metadata": {},
   "outputs": [
    {
     "data": {
      "text/plain": [
       "medium    125567\n",
       "high       42823\n",
       "low         8647\n",
       "None        3317\n",
       "Name: attacking_rate, dtype: int64"
      ]
     },
     "execution_count": 42,
     "metadata": {},
     "output_type": "execute_result"
    }
   ],
   "source": [
    "df['attacking_rate'].value_counts()"
   ]
  },
  {
   "cell_type": "code",
   "execution_count": 43,
   "metadata": {},
   "outputs": [
    {
     "data": {
      "text/plain": [
       "<matplotlib.axes._subplots.AxesSubplot at 0x15c34319c88>"
      ]
     },
     "execution_count": 43,
     "metadata": {},
     "output_type": "execute_result"
    },
    {
     "data": {
      "image/png": "[encoded data removed]",
      "text/plain": [
       "<Figure size 432x288 with 1 Axes>"
      ]
     },
     "metadata": {},
     "output_type": "display_data"
    }
   ],
   "source": [
    "df['attacking_rate'].value_counts().plot(kind='bar')"
   ]
  },
  {
   "cell_type": "code",
   "execution_count": 44,
   "metadata": {},
   "outputs": [
    {
     "data": {
      "text/plain": [
       "array(['medium', 'high', 'low'], dtype=object)"
      ]
     },
     "execution_count": 44,
     "metadata": {},
     "output_type": "execute_result"
    }
   ],
   "source": [
    "df['defensive_rate'].unique()"
   ]
  },
  {
   "cell_type": "code",
   "execution_count": 45,
   "metadata": {},
   "outputs": [
    {
     "data": {
      "text/plain": [
       "medium    132190\n",
       "high       27461\n",
       "low        20703\n",
       "Name: defensive_rate, dtype: int64"
      ]
     },
     "execution_count": 45,
     "metadata": {},
     "output_type": "execute_result"
    }
   ],
   "source": [
    "df['defensive_rate'].value_counts()"
   ]
  },
  {
   "cell_type": "code",
   "execution_count": 46,
   "metadata": {},
   "outputs": [
    {
     "data": {
      "text/plain": [
       "<matplotlib.axes._subplots.AxesSubplot at 0x15c33831ba8>"
      ]
     },
     "execution_count": 46,
     "metadata": {},
     "output_type": "execute_result"
    },
    {
     "data": {
      "image/png": "[encoded data removed]",
      "text/plain": [
       "<Figure size 432x288 with 1 Axes>"
      ]
     },
     "metadata": {},
     "output_type": "display_data"
    }
   ],
   "source": [
    "df['defensive_rate'].value_counts().plot(kind='bar')"
   ]
  },
  {
   "cell_type": "markdown",
   "metadata": {},
   "source": [
    "### Scatter Plot"
   ]
  },
  {
   "cell_type": "code",
   "execution_count": 47,
   "metadata": {},
   "outputs": [
    {
     "data": {
      "image/png": "[encoded data removed]",
      "text/plain": [
       "<Figure size 1152x864 with 40 Axes>"
      ]
     },
     "metadata": {},
     "output_type": "display_data"
    }
   ],
   "source": [
    "fig, axes = plt.subplots(10, 4, figsize=(16, 12))\n",
    "for i,ax in enumerate(axes.flat):\n",
    "    if i < len(clms)-1:\n",
    "        ax.scatter(df[clms[i+1]], df[clms[0]])\n",
    "        ax.set_title(clms[i+1])\n",
    "plt.tight_layout()\n",
    "plt.show()"
   ]
  },
  {
   "cell_type": "code",
   "execution_count": 48,
   "metadata": {},
   "outputs": [
    {
     "data": {
      "text/plain": [
       "<matplotlib.axes._subplots.AxesSubplot at 0x15c32d662b0>"
      ]
     },
     "execution_count": 48,
     "metadata": {},
     "output_type": "execute_result"
    },
    {
     "data": {
      "image/png": "[encoded data removed]",
      "text/plain": [
       "<Figure size 2160x720 with 2 Axes>"
      ]
     },
     "metadata": {},
     "output_type": "display_data"
    }
   ],
   "source": [
    "#Correlation Matrix\n",
    "sns.set(style=\"white\")\n",
    "df_corr= df[1:]\n",
    "corr = df_corr.dropna().corr() #Compute the correlation matrix\n",
    "mask = np.zeros_like(corr, dtype=np.bool) #Generate a mask \n",
    "f, ax = plt.subplots(figsize=(30, 10)) #Set up the matplotlib figure\n",
    "cmap = sns.diverging_palette(220, 10, as_cmap=True) #Generate a custom diverging colormap\n",
    "sns.heatmap(corr, mask=mask, cmap=cmap, square=True, linewidths=.5, ax=ax) #Draw the heatmap with the mask and correct aspect ratio"
   ]
  },
  {
   "cell_type": "markdown",
   "metadata": {},
   "source": [
    "## Preparing Data for Linear Regression"
   ]
  },
  {
   "cell_type": "code",
   "execution_count": 49,
   "metadata": {},
   "outputs": [],
   "source": [
    "df.loc[:, \"new_date\"] = df[\"date\"].apply(pd.to_datetime) #Creating a new column new_date and changing the date time format"
   ]
  },
  {
   "cell_type": "code",
   "execution_count": 50,
   "metadata": {},
   "outputs": [],
   "source": [
    "df.loc[:, \"day\"] = df[\"new_date\"].apply(lambda x: x.day) #Creating a day column and assigning the day values of new_date column"
   ]
  },
  {
   "cell_type": "code",
   "execution_count": 51,
   "metadata": {},
   "outputs": [],
   "source": [
    "df.loc[:, \"month\"] = df[\"new_date\"].apply(lambda x: x.month) #Creating a month column and assigning the month values of new_date column"
   ]
  },
  {
   "cell_type": "code",
   "execution_count": 52,
   "metadata": {},
   "outputs": [],
   "source": [
    "df.loc[:, \"year\"] = df[\"new_date\"].apply(lambda x: x.year) #Creating a day year and assigning the year values of new_date column"
   ]
  },
  {
   "cell_type": "code",
   "execution_count": 53,
   "metadata": {},
   "outputs": [],
   "source": [
    "df.loc[:, \"year\"] = df[\"new_date\"].apply(lambda x: x.year) #Creating a day year and assigning the year values of new_date column"
   ]
  },
  {
   "cell_type": "code",
   "execution_count": 54,
   "metadata": {},
   "outputs": [
    {
     "data": {
      "text/plain": [
       "array([2016, 2015, 2007, 2014, 2013, 2012, 2011, 2010, 2009, 2008],\n",
       "      dtype=int64)"
      ]
     },
     "execution_count": 54,
     "metadata": {},
     "output_type": "execute_result"
    }
   ],
   "source": [
    "df[\"year\"].unique() #Unique year values of the year column"
   ]
  },
  {
   "cell_type": "code",
   "execution_count": 55,
   "metadata": {},
   "outputs": [
    {
     "data": {
      "text/plain": [
       "Index(['date', 'overall_rating', 'potential', 'preferred_foot', 'crossing',\n",
       "       'finishing', 'heading_accuracy', 'short_passing', 'volleys',\n",
       "       'dribbling', 'curve', 'free_kick_accuracy', 'long_passing',\n",
       "       'ball_control', 'acceleration', 'sprint_speed', 'agility', 'reactions',\n",
       "       'balance', 'shot_power', 'jumping', 'stamina', 'strength', 'long_shots',\n",
       "       'aggression', 'interceptions', 'positioning', 'vision', 'penalties',\n",
       "       'marking', 'standing_tackle', 'sliding_tackle', 'gk_diving',\n",
       "       'gk_handling', 'gk_kicking', 'gk_positioning', 'gk_reflexes',\n",
       "       'attacking_rate', 'defensive_rate', 'new_date', 'day', 'month', 'year'],\n",
       "      dtype='object')"
      ]
     },
     "execution_count": 55,
     "metadata": {},
     "output_type": "execute_result"
    }
   ],
   "source": [
    "df.columns"
   ]
  },
  {
   "cell_type": "code",
   "execution_count": 56,
   "metadata": {},
   "outputs": [],
   "source": [
    "cat_clms =  [\"preferred_foot\", \"attacking_rate\", \"defensive_rate\", \"year\", \"month\", \"day\"] #Catagory Column List"
   ]
  },
  {
   "cell_type": "code",
   "execution_count": 57,
   "metadata": {},
   "outputs": [
    {
     "data": {
      "text/html": [
       "<div>\n",
       "<style scoped>\n",
       "    .dataframe tbody tr th:only-of-type {\n",
       "        vertical-align: middle;\n",
       "    }\n",
       "\n",
       "    .dataframe tbody tr th {\n",
       "        vertical-align: top;\n",
       "    }\n",
       "\n",
       "    .dataframe thead th {\n",
       "        text-align: right;\n",
       "    }\n",
       "</style>\n",
       "<table border=\"1\" class=\"dataframe\">\n",
       "  <thead>\n",
       "    <tr style=\"text-align: right;\">\n",
       "      <th></th>\n",
       "      <th>date</th>\n",
       "      <th>overall_rating</th>\n",
       "      <th>potential</th>\n",
       "      <th>preferred_foot</th>\n",
       "      <th>crossing</th>\n",
       "      <th>finishing</th>\n",
       "      <th>heading_accuracy</th>\n",
       "      <th>short_passing</th>\n",
       "      <th>volleys</th>\n",
       "      <th>dribbling</th>\n",
       "      <th>...</th>\n",
       "      <th>gk_handling</th>\n",
       "      <th>gk_kicking</th>\n",
       "      <th>gk_positioning</th>\n",
       "      <th>gk_reflexes</th>\n",
       "      <th>attacking_rate</th>\n",
       "      <th>defensive_rate</th>\n",
       "      <th>new_date</th>\n",
       "      <th>day</th>\n",
       "      <th>month</th>\n",
       "      <th>year</th>\n",
       "    </tr>\n",
       "  </thead>\n",
       "  <tbody>\n",
       "    <tr>\n",
       "      <th>0</th>\n",
       "      <td>2016-02-18 00:00:00</td>\n",
       "      <td>67.0</td>\n",
       "      <td>71.0</td>\n",
       "      <td>right</td>\n",
       "      <td>49.0</td>\n",
       "      <td>44.0</td>\n",
       "      <td>71.0</td>\n",
       "      <td>61.0</td>\n",
       "      <td>44.0</td>\n",
       "      <td>51.0</td>\n",
       "      <td>...</td>\n",
       "      <td>11.0</td>\n",
       "      <td>10.0</td>\n",
       "      <td>8.0</td>\n",
       "      <td>8.0</td>\n",
       "      <td>medium</td>\n",
       "      <td>medium</td>\n",
       "      <td>2016-02-18</td>\n",
       "      <td>18</td>\n",
       "      <td>2</td>\n",
       "      <td>2016</td>\n",
       "    </tr>\n",
       "    <tr>\n",
       "      <th>1</th>\n",
       "      <td>2015-11-19 00:00:00</td>\n",
       "      <td>67.0</td>\n",
       "      <td>71.0</td>\n",
       "      <td>right</td>\n",
       "      <td>49.0</td>\n",
       "      <td>44.0</td>\n",
       "      <td>71.0</td>\n",
       "      <td>61.0</td>\n",
       "      <td>44.0</td>\n",
       "      <td>51.0</td>\n",
       "      <td>...</td>\n",
       "      <td>11.0</td>\n",
       "      <td>10.0</td>\n",
       "      <td>8.0</td>\n",
       "      <td>8.0</td>\n",
       "      <td>medium</td>\n",
       "      <td>medium</td>\n",
       "      <td>2015-11-19</td>\n",
       "      <td>19</td>\n",
       "      <td>11</td>\n",
       "      <td>2015</td>\n",
       "    </tr>\n",
       "    <tr>\n",
       "      <th>2</th>\n",
       "      <td>2015-09-21 00:00:00</td>\n",
       "      <td>62.0</td>\n",
       "      <td>66.0</td>\n",
       "      <td>right</td>\n",
       "      <td>49.0</td>\n",
       "      <td>44.0</td>\n",
       "      <td>71.0</td>\n",
       "      <td>61.0</td>\n",
       "      <td>44.0</td>\n",
       "      <td>51.0</td>\n",
       "      <td>...</td>\n",
       "      <td>11.0</td>\n",
       "      <td>10.0</td>\n",
       "      <td>8.0</td>\n",
       "      <td>8.0</td>\n",
       "      <td>medium</td>\n",
       "      <td>medium</td>\n",
       "      <td>2015-09-21</td>\n",
       "      <td>21</td>\n",
       "      <td>9</td>\n",
       "      <td>2015</td>\n",
       "    </tr>\n",
       "    <tr>\n",
       "      <th>3</th>\n",
       "      <td>2015-03-20 00:00:00</td>\n",
       "      <td>61.0</td>\n",
       "      <td>65.0</td>\n",
       "      <td>right</td>\n",
       "      <td>48.0</td>\n",
       "      <td>43.0</td>\n",
       "      <td>70.0</td>\n",
       "      <td>60.0</td>\n",
       "      <td>43.0</td>\n",
       "      <td>50.0</td>\n",
       "      <td>...</td>\n",
       "      <td>10.0</td>\n",
       "      <td>9.0</td>\n",
       "      <td>7.0</td>\n",
       "      <td>7.0</td>\n",
       "      <td>medium</td>\n",
       "      <td>medium</td>\n",
       "      <td>2015-03-20</td>\n",
       "      <td>20</td>\n",
       "      <td>3</td>\n",
       "      <td>2015</td>\n",
       "    </tr>\n",
       "    <tr>\n",
       "      <th>4</th>\n",
       "      <td>2007-02-22 00:00:00</td>\n",
       "      <td>61.0</td>\n",
       "      <td>65.0</td>\n",
       "      <td>right</td>\n",
       "      <td>48.0</td>\n",
       "      <td>43.0</td>\n",
       "      <td>70.0</td>\n",
       "      <td>60.0</td>\n",
       "      <td>43.0</td>\n",
       "      <td>50.0</td>\n",
       "      <td>...</td>\n",
       "      <td>10.0</td>\n",
       "      <td>9.0</td>\n",
       "      <td>7.0</td>\n",
       "      <td>7.0</td>\n",
       "      <td>medium</td>\n",
       "      <td>medium</td>\n",
       "      <td>2007-02-22</td>\n",
       "      <td>22</td>\n",
       "      <td>2</td>\n",
       "      <td>2007</td>\n",
       "    </tr>\n",
       "  </tbody>\n",
       "</table>\n",
       "<p>5 rows × 43 columns</p>\n",
       "</div>"
      ],
      "text/plain": [
       "                  date  overall_rating  potential preferred_foot  crossing  \\\n",
       "0  2016-02-18 00:00:00            67.0       71.0          right      49.0   \n",
       "1  2015-11-19 00:00:00            67.0       71.0          right      49.0   \n",
       "2  2015-09-21 00:00:00            62.0       66.0          right      49.0   \n",
       "3  2015-03-20 00:00:00            61.0       65.0          right      48.0   \n",
       "4  2007-02-22 00:00:00            61.0       65.0          right      48.0   \n",
       "\n",
       "   finishing  heading_accuracy  short_passing  volleys  dribbling  ...   \\\n",
       "0       44.0              71.0           61.0     44.0       51.0  ...    \n",
       "1       44.0              71.0           61.0     44.0       51.0  ...    \n",
       "2       44.0              71.0           61.0     44.0       51.0  ...    \n",
       "3       43.0              70.0           60.0     43.0       50.0  ...    \n",
       "4       43.0              70.0           60.0     43.0       50.0  ...    \n",
       "\n",
       "   gk_handling  gk_kicking  gk_positioning  gk_reflexes  attacking_rate  \\\n",
       "0         11.0        10.0             8.0          8.0          medium   \n",
       "1         11.0        10.0             8.0          8.0          medium   \n",
       "2         11.0        10.0             8.0          8.0          medium   \n",
       "3         10.0         9.0             7.0          7.0          medium   \n",
       "4         10.0         9.0             7.0          7.0          medium   \n",
       "\n",
       "   defensive_rate   new_date  day  month  year  \n",
       "0          medium 2016-02-18   18      2  2016  \n",
       "1          medium 2015-11-19   19     11  2015  \n",
       "2          medium 2015-09-21   21      9  2015  \n",
       "3          medium 2015-03-20   20      3  2015  \n",
       "4          medium 2007-02-22   22      2  2007  \n",
       "\n",
       "[5 rows x 43 columns]"
      ]
     },
     "execution_count": 57,
     "metadata": {},
     "output_type": "execute_result"
    }
   ],
   "source": [
    "df.head() #Returns the first 5 rows of dataframe df"
   ]
  },
  {
   "cell_type": "code",
   "execution_count": 58,
   "metadata": {},
   "outputs": [],
   "source": [
    "df =  df.drop([\"date\", \"new_date\"], axis = 1) #Dropping the date and new_date columns"
   ]
  },
  {
   "cell_type": "code",
   "execution_count": 59,
   "metadata": {},
   "outputs": [],
   "source": [
    "for clm in cat_clms:\n",
    "    dummies = pd.get_dummies(df[clm], prefix = clm)\n",
    "    df = df.join(dummies)\n",
    "    df = df.drop(clm, axis = 1)"
   ]
  },
  {
   "cell_type": "code",
   "execution_count": 60,
   "metadata": {},
   "outputs": [
    {
     "data": {
      "text/plain": [
       "Index(['overall_rating', 'potential', 'crossing', 'finishing',\n",
       "       'heading_accuracy', 'short_passing', 'volleys', 'dribbling', 'curve',\n",
       "       'free_kick_accuracy', 'long_passing', 'ball_control', 'acceleration',\n",
       "       'sprint_speed', 'agility', 'reactions', 'balance', 'shot_power',\n",
       "       'jumping', 'stamina', 'strength', 'long_shots', 'aggression',\n",
       "       'interceptions', 'positioning', 'vision', 'penalties', 'marking',\n",
       "       'standing_tackle', 'sliding_tackle', 'gk_diving', 'gk_handling',\n",
       "       'gk_kicking', 'gk_positioning', 'gk_reflexes', 'preferred_foot_left',\n",
       "       'preferred_foot_right', 'attacking_rate_None', 'attacking_rate_high',\n",
       "       'attacking_rate_low', 'attacking_rate_medium', 'defensive_rate_high',\n",
       "       'defensive_rate_low', 'defensive_rate_medium', 'year_2007', 'year_2008',\n",
       "       'year_2009', 'year_2010', 'year_2011', 'year_2012', 'year_2013',\n",
       "       'year_2014', 'year_2015', 'year_2016', 'month_1', 'month_2', 'month_3',\n",
       "       'month_4', 'month_5', 'month_6', 'month_7', 'month_8', 'month_9',\n",
       "       'month_10', 'month_11', 'month_12', 'day_1', 'day_2', 'day_3', 'day_4',\n",
       "       'day_5', 'day_6', 'day_7', 'day_8', 'day_9', 'day_10', 'day_11',\n",
       "       'day_12', 'day_13', 'day_14', 'day_15', 'day_16', 'day_17', 'day_18',\n",
       "       'day_19', 'day_20', 'day_21', 'day_22', 'day_23', 'day_24', 'day_25',\n",
       "       'day_26', 'day_27', 'day_28', 'day_29', 'day_30', 'day_31'],\n",
       "      dtype='object')"
      ]
     },
     "execution_count": 60,
     "metadata": {},
     "output_type": "execute_result"
    }
   ],
   "source": [
    "df.columns #Columns of dataframe df"
   ]
  },
  {
   "cell_type": "code",
   "execution_count": 61,
   "metadata": {},
   "outputs": [
    {
     "data": {
      "text/html": [
       "<div>\n",
       "<style scoped>\n",
       "    .dataframe tbody tr th:only-of-type {\n",
       "        vertical-align: middle;\n",
       "    }\n",
       "\n",
       "    .dataframe tbody tr th {\n",
       "        vertical-align: top;\n",
       "    }\n",
       "\n",
       "    .dataframe thead th {\n",
       "        text-align: right;\n",
       "    }\n",
       "</style>\n",
       "<table border=\"1\" class=\"dataframe\">\n",
       "  <thead>\n",
       "    <tr style=\"text-align: right;\">\n",
       "      <th></th>\n",
       "      <th>overall_rating</th>\n",
       "      <th>potential</th>\n",
       "      <th>crossing</th>\n",
       "      <th>finishing</th>\n",
       "      <th>heading_accuracy</th>\n",
       "      <th>short_passing</th>\n",
       "      <th>volleys</th>\n",
       "      <th>dribbling</th>\n",
       "      <th>curve</th>\n",
       "      <th>free_kick_accuracy</th>\n",
       "      <th>...</th>\n",
       "      <th>day_22</th>\n",
       "      <th>day_23</th>\n",
       "      <th>day_24</th>\n",
       "      <th>day_25</th>\n",
       "      <th>day_26</th>\n",
       "      <th>day_27</th>\n",
       "      <th>day_28</th>\n",
       "      <th>day_29</th>\n",
       "      <th>day_30</th>\n",
       "      <th>day_31</th>\n",
       "    </tr>\n",
       "  </thead>\n",
       "  <tbody>\n",
       "    <tr>\n",
       "      <th>0</th>\n",
       "      <td>67.0</td>\n",
       "      <td>71.0</td>\n",
       "      <td>49.0</td>\n",
       "      <td>44.0</td>\n",
       "      <td>71.0</td>\n",
       "      <td>61.0</td>\n",
       "      <td>44.0</td>\n",
       "      <td>51.0</td>\n",
       "      <td>45.0</td>\n",
       "      <td>39.0</td>\n",
       "      <td>...</td>\n",
       "      <td>0</td>\n",
       "      <td>0</td>\n",
       "      <td>0</td>\n",
       "      <td>0</td>\n",
       "      <td>0</td>\n",
       "      <td>0</td>\n",
       "      <td>0</td>\n",
       "      <td>0</td>\n",
       "      <td>0</td>\n",
       "      <td>0</td>\n",
       "    </tr>\n",
       "    <tr>\n",
       "      <th>1</th>\n",
       "      <td>67.0</td>\n",
       "      <td>71.0</td>\n",
       "      <td>49.0</td>\n",
       "      <td>44.0</td>\n",
       "      <td>71.0</td>\n",
       "      <td>61.0</td>\n",
       "      <td>44.0</td>\n",
       "      <td>51.0</td>\n",
       "      <td>45.0</td>\n",
       "      <td>39.0</td>\n",
       "      <td>...</td>\n",
       "      <td>0</td>\n",
       "      <td>0</td>\n",
       "      <td>0</td>\n",
       "      <td>0</td>\n",
       "      <td>0</td>\n",
       "      <td>0</td>\n",
       "      <td>0</td>\n",
       "      <td>0</td>\n",
       "      <td>0</td>\n",
       "      <td>0</td>\n",
       "    </tr>\n",
       "    <tr>\n",
       "      <th>2</th>\n",
       "      <td>62.0</td>\n",
       "      <td>66.0</td>\n",
       "      <td>49.0</td>\n",
       "      <td>44.0</td>\n",
       "      <td>71.0</td>\n",
       "      <td>61.0</td>\n",
       "      <td>44.0</td>\n",
       "      <td>51.0</td>\n",
       "      <td>45.0</td>\n",
       "      <td>39.0</td>\n",
       "      <td>...</td>\n",
       "      <td>0</td>\n",
       "      <td>0</td>\n",
       "      <td>0</td>\n",
       "      <td>0</td>\n",
       "      <td>0</td>\n",
       "      <td>0</td>\n",
       "      <td>0</td>\n",
       "      <td>0</td>\n",
       "      <td>0</td>\n",
       "      <td>0</td>\n",
       "    </tr>\n",
       "    <tr>\n",
       "      <th>3</th>\n",
       "      <td>61.0</td>\n",
       "      <td>65.0</td>\n",
       "      <td>48.0</td>\n",
       "      <td>43.0</td>\n",
       "      <td>70.0</td>\n",
       "      <td>60.0</td>\n",
       "      <td>43.0</td>\n",
       "      <td>50.0</td>\n",
       "      <td>44.0</td>\n",
       "      <td>38.0</td>\n",
       "      <td>...</td>\n",
       "      <td>0</td>\n",
       "      <td>0</td>\n",
       "      <td>0</td>\n",
       "      <td>0</td>\n",
       "      <td>0</td>\n",
       "      <td>0</td>\n",
       "      <td>0</td>\n",
       "      <td>0</td>\n",
       "      <td>0</td>\n",
       "      <td>0</td>\n",
       "    </tr>\n",
       "    <tr>\n",
       "      <th>4</th>\n",
       "      <td>61.0</td>\n",
       "      <td>65.0</td>\n",
       "      <td>48.0</td>\n",
       "      <td>43.0</td>\n",
       "      <td>70.0</td>\n",
       "      <td>60.0</td>\n",
       "      <td>43.0</td>\n",
       "      <td>50.0</td>\n",
       "      <td>44.0</td>\n",
       "      <td>38.0</td>\n",
       "      <td>...</td>\n",
       "      <td>1</td>\n",
       "      <td>0</td>\n",
       "      <td>0</td>\n",
       "      <td>0</td>\n",
       "      <td>0</td>\n",
       "      <td>0</td>\n",
       "      <td>0</td>\n",
       "      <td>0</td>\n",
       "      <td>0</td>\n",
       "      <td>0</td>\n",
       "    </tr>\n",
       "  </tbody>\n",
       "</table>\n",
       "<p>5 rows × 97 columns</p>\n",
       "</div>"
      ],
      "text/plain": [
       "   overall_rating  potential  crossing  finishing  heading_accuracy  \\\n",
       "0            67.0       71.0      49.0       44.0              71.0   \n",
       "1            67.0       71.0      49.0       44.0              71.0   \n",
       "2            62.0       66.0      49.0       44.0              71.0   \n",
       "3            61.0       65.0      48.0       43.0              70.0   \n",
       "4            61.0       65.0      48.0       43.0              70.0   \n",
       "\n",
       "   short_passing  volleys  dribbling  curve  free_kick_accuracy   ...    \\\n",
       "0           61.0     44.0       51.0   45.0                39.0   ...     \n",
       "1           61.0     44.0       51.0   45.0                39.0   ...     \n",
       "2           61.0     44.0       51.0   45.0                39.0   ...     \n",
       "3           60.0     43.0       50.0   44.0                38.0   ...     \n",
       "4           60.0     43.0       50.0   44.0                38.0   ...     \n",
       "\n",
       "   day_22  day_23  day_24  day_25  day_26  day_27  day_28  day_29  day_30  \\\n",
       "0       0       0       0       0       0       0       0       0       0   \n",
       "1       0       0       0       0       0       0       0       0       0   \n",
       "2       0       0       0       0       0       0       0       0       0   \n",
       "3       0       0       0       0       0       0       0       0       0   \n",
       "4       1       0       0       0       0       0       0       0       0   \n",
       "\n",
       "   day_31  \n",
       "0       0  \n",
       "1       0  \n",
       "2       0  \n",
       "3       0  \n",
       "4       0  \n",
       "\n",
       "[5 rows x 97 columns]"
      ]
     },
     "execution_count": 61,
     "metadata": {},
     "output_type": "execute_result"
    }
   ],
   "source": [
    "df.head() #Returns the first 5 rows of dataframe df"
   ]
  },
  {
   "cell_type": "code",
   "execution_count": 62,
   "metadata": {},
   "outputs": [
    {
     "data": {
      "text/plain": [
       "(180354, 97)"
      ]
     },
     "execution_count": 62,
     "metadata": {},
     "output_type": "execute_result"
    }
   ],
   "source": [
    "df.shape #Shape of the dataframe df"
   ]
  },
  {
   "cell_type": "markdown",
   "metadata": {},
   "source": [
    "## Train, Test & Split"
   ]
  },
  {
   "cell_type": "code",
   "execution_count": 63,
   "metadata": {},
   "outputs": [],
   "source": [
    "#Shuffle the rows of df so we get a distributed sample when we display top few rows\n",
    "df = df.reindex(np.random.permutation(df.index))"
   ]
  },
  {
   "cell_type": "code",
   "execution_count": 64,
   "metadata": {},
   "outputs": [
    {
     "data": {
      "text/html": [
       "<div>\n",
       "<style scoped>\n",
       "    .dataframe tbody tr th:only-of-type {\n",
       "        vertical-align: middle;\n",
       "    }\n",
       "\n",
       "    .dataframe tbody tr th {\n",
       "        vertical-align: top;\n",
       "    }\n",
       "\n",
       "    .dataframe thead th {\n",
       "        text-align: right;\n",
       "    }\n",
       "</style>\n",
       "<table border=\"1\" class=\"dataframe\">\n",
       "  <thead>\n",
       "    <tr style=\"text-align: right;\">\n",
       "      <th></th>\n",
       "      <th>overall_rating</th>\n",
       "      <th>potential</th>\n",
       "      <th>crossing</th>\n",
       "      <th>finishing</th>\n",
       "      <th>heading_accuracy</th>\n",
       "      <th>short_passing</th>\n",
       "      <th>volleys</th>\n",
       "      <th>dribbling</th>\n",
       "      <th>curve</th>\n",
       "      <th>free_kick_accuracy</th>\n",
       "      <th>...</th>\n",
       "      <th>day_22</th>\n",
       "      <th>day_23</th>\n",
       "      <th>day_24</th>\n",
       "      <th>day_25</th>\n",
       "      <th>day_26</th>\n",
       "      <th>day_27</th>\n",
       "      <th>day_28</th>\n",
       "      <th>day_29</th>\n",
       "      <th>day_30</th>\n",
       "      <th>day_31</th>\n",
       "    </tr>\n",
       "  </thead>\n",
       "  <tbody>\n",
       "    <tr>\n",
       "      <th>8012</th>\n",
       "      <td>67.0</td>\n",
       "      <td>71.0</td>\n",
       "      <td>49.0</td>\n",
       "      <td>44.0</td>\n",
       "      <td>71.0</td>\n",
       "      <td>61.0</td>\n",
       "      <td>44.0</td>\n",
       "      <td>51.0</td>\n",
       "      <td>45.0</td>\n",
       "      <td>39.0</td>\n",
       "      <td>...</td>\n",
       "      <td>0</td>\n",
       "      <td>0</td>\n",
       "      <td>0</td>\n",
       "      <td>0</td>\n",
       "      <td>0</td>\n",
       "      <td>0</td>\n",
       "      <td>0</td>\n",
       "      <td>0</td>\n",
       "      <td>0</td>\n",
       "      <td>0</td>\n",
       "    </tr>\n",
       "    <tr>\n",
       "      <th>157705</th>\n",
       "      <td>67.0</td>\n",
       "      <td>71.0</td>\n",
       "      <td>49.0</td>\n",
       "      <td>44.0</td>\n",
       "      <td>71.0</td>\n",
       "      <td>61.0</td>\n",
       "      <td>44.0</td>\n",
       "      <td>51.0</td>\n",
       "      <td>45.0</td>\n",
       "      <td>39.0</td>\n",
       "      <td>...</td>\n",
       "      <td>0</td>\n",
       "      <td>0</td>\n",
       "      <td>0</td>\n",
       "      <td>0</td>\n",
       "      <td>0</td>\n",
       "      <td>0</td>\n",
       "      <td>0</td>\n",
       "      <td>0</td>\n",
       "      <td>0</td>\n",
       "      <td>0</td>\n",
       "    </tr>\n",
       "    <tr>\n",
       "      <th>92651</th>\n",
       "      <td>62.0</td>\n",
       "      <td>66.0</td>\n",
       "      <td>49.0</td>\n",
       "      <td>44.0</td>\n",
       "      <td>71.0</td>\n",
       "      <td>61.0</td>\n",
       "      <td>44.0</td>\n",
       "      <td>51.0</td>\n",
       "      <td>45.0</td>\n",
       "      <td>39.0</td>\n",
       "      <td>...</td>\n",
       "      <td>0</td>\n",
       "      <td>0</td>\n",
       "      <td>0</td>\n",
       "      <td>0</td>\n",
       "      <td>0</td>\n",
       "      <td>0</td>\n",
       "      <td>0</td>\n",
       "      <td>0</td>\n",
       "      <td>0</td>\n",
       "      <td>0</td>\n",
       "    </tr>\n",
       "    <tr>\n",
       "      <th>36899</th>\n",
       "      <td>61.0</td>\n",
       "      <td>65.0</td>\n",
       "      <td>48.0</td>\n",
       "      <td>43.0</td>\n",
       "      <td>70.0</td>\n",
       "      <td>60.0</td>\n",
       "      <td>43.0</td>\n",
       "      <td>50.0</td>\n",
       "      <td>44.0</td>\n",
       "      <td>38.0</td>\n",
       "      <td>...</td>\n",
       "      <td>0</td>\n",
       "      <td>0</td>\n",
       "      <td>0</td>\n",
       "      <td>0</td>\n",
       "      <td>0</td>\n",
       "      <td>0</td>\n",
       "      <td>0</td>\n",
       "      <td>0</td>\n",
       "      <td>0</td>\n",
       "      <td>0</td>\n",
       "    </tr>\n",
       "    <tr>\n",
       "      <th>39969</th>\n",
       "      <td>61.0</td>\n",
       "      <td>65.0</td>\n",
       "      <td>48.0</td>\n",
       "      <td>43.0</td>\n",
       "      <td>70.0</td>\n",
       "      <td>60.0</td>\n",
       "      <td>43.0</td>\n",
       "      <td>50.0</td>\n",
       "      <td>44.0</td>\n",
       "      <td>38.0</td>\n",
       "      <td>...</td>\n",
       "      <td>1</td>\n",
       "      <td>0</td>\n",
       "      <td>0</td>\n",
       "      <td>0</td>\n",
       "      <td>0</td>\n",
       "      <td>0</td>\n",
       "      <td>0</td>\n",
       "      <td>0</td>\n",
       "      <td>0</td>\n",
       "      <td>0</td>\n",
       "    </tr>\n",
       "  </tbody>\n",
       "</table>\n",
       "<p>5 rows × 97 columns</p>\n",
       "</div>"
      ],
      "text/plain": [
       "        overall_rating  potential  crossing  finishing  heading_accuracy  \\\n",
       "8012              67.0       71.0      49.0       44.0              71.0   \n",
       "157705            67.0       71.0      49.0       44.0              71.0   \n",
       "92651             62.0       66.0      49.0       44.0              71.0   \n",
       "36899             61.0       65.0      48.0       43.0              70.0   \n",
       "39969             61.0       65.0      48.0       43.0              70.0   \n",
       "\n",
       "        short_passing  volleys  dribbling  curve  free_kick_accuracy   ...    \\\n",
       "8012             61.0     44.0       51.0   45.0                39.0   ...     \n",
       "157705           61.0     44.0       51.0   45.0                39.0   ...     \n",
       "92651            61.0     44.0       51.0   45.0                39.0   ...     \n",
       "36899            60.0     43.0       50.0   44.0                38.0   ...     \n",
       "39969            60.0     43.0       50.0   44.0                38.0   ...     \n",
       "\n",
       "        day_22  day_23  day_24  day_25  day_26  day_27  day_28  day_29  \\\n",
       "8012         0       0       0       0       0       0       0       0   \n",
       "157705       0       0       0       0       0       0       0       0   \n",
       "92651        0       0       0       0       0       0       0       0   \n",
       "36899        0       0       0       0       0       0       0       0   \n",
       "39969        1       0       0       0       0       0       0       0   \n",
       "\n",
       "        day_30  day_31  \n",
       "8012         0       0  \n",
       "157705       0       0  \n",
       "92651        0       0  \n",
       "36899        0       0  \n",
       "39969        0       0  \n",
       "\n",
       "[5 rows x 97 columns]"
      ]
     },
     "execution_count": 64,
     "metadata": {},
     "output_type": "execute_result"
    }
   ],
   "source": [
    "df.head()"
   ]
  },
  {
   "cell_type": "code",
   "execution_count": 65,
   "metadata": {},
   "outputs": [],
   "source": [
    "# Defining the X anf y parameters\n",
    "X = df.iloc[:,1:]   # 'other than overall rating, i.e. column 1'\n",
    "y = df.iloc[:,0]    #  Need to predict 'Overall rating' "
   ]
  },
  {
   "cell_type": "code",
   "execution_count": 66,
   "metadata": {},
   "outputs": [],
   "source": [
    "# Splitting the train and test data\n",
    "from sklearn.model_selection import train_test_split\n",
    "X_train,X_test,y_train,y_test = train_test_split(X,y,test_size=0.20,random_state=0)"
   ]
  },
  {
   "cell_type": "markdown",
   "metadata": {},
   "source": [
    "## Linear Regression\n",
    "THE REGRESSION EQUATION\n",
    "A line in a two dimensional or two-variable space is defined by the equation Y=a+b*X; in full text: the Y variable can be expressed in terms of a constant (a) and a slope (b) times the X variable. The constant is also referred to as the intercept, and the slope as the regression coefficient or B coefficient\n",
    "In the multivariate case, when there is more than one independent variable, the regression line cannot be visualized in the two dimensional space, but can be computed just as easily. In general then, multiple regression procedures will estimate a linear equation of the form:\n",
    "\n",
    "Y = a + b1*X1 + b2*X2 + ... + bp*Xp"
   ]
  },
  {
   "cell_type": "code",
   "execution_count": 67,
   "metadata": {},
   "outputs": [
    {
     "name": "stdout",
     "output_type": "stream",
     "text": [
      "--------------------------------------------------\n",
      "Intercept :  -3.2254260221267543\n",
      "Coeeficient :  [ 3.87535981e-01  2.48575545e-02  1.30006031e-02  7.24518793e-02\n",
      "  3.28086100e-02  5.18865332e-03 -1.72776035e-02  8.46373533e-03\n",
      "  1.23868089e-02  9.51060093e-03  1.25686790e-01  7.03295719e-03\n",
      "  1.37983851e-02 -1.13687828e-02  1.96498298e-01  9.73193384e-03\n",
      "  1.54081508e-02  1.25904712e-02 -9.72725412e-04  5.30096647e-02\n",
      " -1.64596737e-02  2.14463484e-02  2.04913349e-02 -7.39877745e-03\n",
      "  1.07239851e-02  1.72434282e-02  2.98905752e-02  1.21630587e-03\n",
      " -2.94185422e-02  1.30317912e-01  3.73159547e-02  8.48674519e-04\n",
      "  5.60537009e-02  2.56402173e-02  5.49388744e-03 -5.49388744e-03\n",
      " -4.48717277e-01 -2.79189761e-01  1.01865689e+00 -2.90749852e-01\n",
      " -7.90374168e-02  3.81816843e-01 -3.02779426e-01 -1.07998541e+00\n",
      " -2.25828499e+00 -1.92387619e+00 -1.00801367e+00  2.21030436e-01\n",
      "  9.48274278e-01  1.00391983e+00  1.11096755e+00  1.32762395e+00\n",
      "  1.65834422e+00 -1.80053717e-01 -7.72213134e-02 -1.08312563e-01\n",
      "  8.56496677e-03 -4.02304712e-02 -9.51542670e-02 -1.33246922e-01\n",
      "  8.56222590e-02  1.57251154e-01  1.74679151e-01  1.61423167e-01\n",
      "  4.66785559e-02  2.14836163e-02  1.99604252e-01  2.02833942e-03\n",
      " -2.19418082e-01  1.03370203e-01  7.47998992e-02 -9.91798867e-02\n",
      " -1.81987581e-01 -5.74569901e-02  2.01799906e-02 -1.37986861e-01\n",
      "  1.59937378e-01 -1.03711314e-01 -1.99494096e-02  4.39863434e-02\n",
      "  2.21053895e-01  1.54544466e-01 -1.08983828e-02  2.70602089e-02\n",
      " -1.79611928e-01  8.54675626e-02  1.34080797e-02 -1.14228066e-01\n",
      "  5.61033036e-02 -3.99360823e-03  6.81697253e-03 -6.53816343e-02\n",
      " -3.15496444e-02 -3.30271524e-01  3.98365430e-01 -3.25850278e-02]\n",
      "---------------------------------------------------------------------------\n",
      "Predicted Values\n"
     ]
    },
    {
     "data": {
      "text/plain": [
       "array([73.15410844, 68.8287504 , 67.17479301, ..., 63.01024265,\n",
       "       66.2005834 , 72.87284781])"
      ]
     },
     "execution_count": 67,
     "metadata": {},
     "output_type": "execute_result"
    }
   ],
   "source": [
    "print('-'*50)\n",
    "# Applying Linear regression\n",
    "# Applying Linear regression\n",
    "# follow the usual sklearn pattern: import, instantiate, fit\n",
    "lm = LinearRegression()\n",
    "lm.fit(X_train, y_train)\n",
    "# print intercept and coefficients\n",
    "\n",
    "print(\"Intercept : \" ,lm.intercept_)\n",
    "print(\"Coeeficient : \", lm.coef_)\n",
    "\n",
    "# Predicting the values using linear regression\n",
    "print('-'*75)\n",
    "print(\"Predicted Values\")\n",
    "y_prediction = lm.predict(X_test)\n",
    "\n",
    "y_prediction\n"
   ]
  },
  {
   "cell_type": "markdown",
   "metadata": {},
   "source": [
    "## Evaluating the Model Using RMSE\n"
   ]
  },
  {
   "cell_type": "markdown",
   "metadata": {},
   "source": [
    "Root Mean Square Error (RMSE) is the standard deviation of the residuals (prediction errors). Residuals are a measure of \n",
    "how far from the regression line data points are; RMSE is a measure of how spread out these residuals are. In other words, \n",
    "it tells how concentrated the data is around the line of best fit"
   ]
  },
  {
   "cell_type": "code",
   "execution_count": 68,
   "metadata": {},
   "outputs": [
    {
     "name": "stdout",
     "output_type": "stream",
     "text": [
      "7.1695255086469025\n"
     ]
    }
   ],
   "source": [
    "#Calculating Mean Squared Error\n",
    "mse = mean_squared_error(y_test, y_prediction) #Mean Squared Error: To check the level of error of a model\n",
    "print(mse)"
   ]
  },
  {
   "cell_type": "code",
   "execution_count": 69,
   "metadata": {},
   "outputs": [
    {
     "name": "stdout",
     "output_type": "stream",
     "text": [
      "---------------------------------------------------------------------------\n",
      "RMSE :  2.677596965311789\n",
      "---------------------------------------------------------------------------\n"
     ]
    }
   ],
   "source": [
    "print('-'*75)\n",
    "RMSE = sqrt(mean_squared_error(y_true = y_test, y_pred = y_prediction))\n",
    "print('RMSE : ', RMSE)\n",
    "print('-'*75)"
   ]
  },
  {
   "cell_type": "markdown",
   "metadata": {},
   "source": [
    "Coefficient of Determination. The coefficient of determination (denoted by R2)\n",
    "R-squared is a statistical measure of how close the data are to the fitted regression line. \n",
    "It is also known as the coefficient of determination, or the coefficient of multiple determination for multiple regression. \n",
    "0% indicates that the model explains none of the variability of the response data around its mean\n",
    "It is a key output of regression analysis. It is interpreted as the proportion of the variance in the dependent variable \n",
    "that is predictable from the independent variable."
   ]
  },
  {
   "cell_type": "code",
   "execution_count": 70,
   "metadata": {},
   "outputs": [
    {
     "data": {
      "text/plain": [
       "0.8531536709256147"
      ]
     },
     "execution_count": 70,
     "metadata": {},
     "output_type": "execute_result"
    }
   ],
   "source": [
    "r2_score(y_test , y_prediction)"
   ]
  },
  {
   "cell_type": "code",
   "execution_count": 71,
   "metadata": {},
   "outputs": [
    {
     "name": "stdout",
     "output_type": "stream",
     "text": [
      "---------------------------------------------------------------------------\n",
      "Predicting based on Simple Linear regression we get the score as : 85.315%\n",
      "---------------------------------------------------------------------------\n"
     ]
    }
   ],
   "source": [
    "linearReg_score = lm.score(X_test,y_test)\n",
    "print('-'*75)\n",
    "print(\"Predicting based on Simple Linear regression we get the score as : {:.5}%\" \\\n",
    "                                      .format(linearReg_score*100))\n",
    "print('-'*75)"
   ]
  },
  {
   "cell_type": "markdown",
   "metadata": {},
   "source": [
    "## Predicting overall_rating using Test Data"
   ]
  },
  {
   "cell_type": "code",
   "execution_count": 72,
   "metadata": {},
   "outputs": [
    {
     "data": {
      "text/plain": [
       "(36071,)"
      ]
     },
     "execution_count": 72,
     "metadata": {},
     "output_type": "execute_result"
    }
   ],
   "source": [
    "y_prediction.shape"
   ]
  },
  {
   "cell_type": "code",
   "execution_count": 73,
   "metadata": {},
   "outputs": [
    {
     "data": {
      "image/png": "[encoded data removed]",
      "text/plain": [
       "<Figure size 1152x648 with 1 Axes>"
      ]
     },
     "metadata": {},
     "output_type": "display_data"
    }
   ],
   "source": [
    "#To visualize the differences between actual overall rating and predicted values, creating a scatter plot.\n",
    "sns.set_style(\"whitegrid\")\n",
    "sns.set_context(\"poster\")\n",
    "plt.figure(figsize=(16,9))\n",
    "plt.scatter(y_test , y_prediction)\n",
    "plt.xlabel(\"Overall Rating: $Y_i$\")\n",
    "plt.ylabel(\"Predicted Overall Rating: $\\hat{Y}_i$\")\n",
    "plt.title(\"Overall Rating vs Predicted Overall Rating: $Y_i$ vs $\\hat{Y}_i$\")\n",
    "plt.text(40,25, \"Comparison between the actual Overall Rating and predicted Overall Rating.\", ha='left')\n",
    "plt.show()"
   ]
  },
  {
   "cell_type": "code",
   "execution_count": 74,
   "metadata": {},
   "outputs": [
    {
     "name": "stderr",
     "output_type": "stream",
     "text": [
      "C:\\Users\\Jaideep\\Anaconda3\\lib\\site-packages\\scipy\\stats\\stats.py:1713: FutureWarning: Using a non-tuple sequence for multidimensional indexing is deprecated; use `arr[tuple(seq)]` instead of `arr[seq]`. In the future this will be interpreted as an array index, `arr[np.array(seq)]`, which will result either in an error or a different result.\n",
      "  return np.add.reduce(sorted[indexer] * weights, axis=axis) / sumval\n"
     ]
    },
    {
     "data": {
      "text/plain": [
       "<matplotlib.axes._subplots.AxesSubplot at 0x15c33d951d0>"
      ]
     },
     "execution_count": 74,
     "metadata": {},
     "output_type": "execute_result"
    },
    {
     "data": {
      "image/png": "[encoded data removed]",
      "text/plain": [
       "<Figure size 432x288 with 1 Axes>"
      ]
     },
     "metadata": {},
     "output_type": "display_data"
    }
   ],
   "source": [
    "sns.regplot(y_test, y_prediction, data=df, fit_reg=True) #Plot Y_test and Y_pred for Linear Regression Model."
   ]
  },
  {
   "cell_type": "code",
   "execution_count": 75,
   "metadata": {},
   "outputs": [
    {
     "name": "stderr",
     "output_type": "stream",
     "text": [
      "C:\\Users\\Jaideep\\Anaconda3\\lib\\site-packages\\scipy\\stats\\stats.py:1713: FutureWarning: Using a non-tuple sequence for multidimensional indexing is deprecated; use `arr[tuple(seq)]` instead of `arr[seq]`. In the future this will be interpreted as an array index, `arr[np.array(seq)]`, which will result either in an error or a different result.\n",
      "  return np.add.reduce(sorted[indexer] * weights, axis=axis) / sumval\n"
     ]
    },
    {
     "data": {
      "text/plain": [
       "<matplotlib.axes._subplots.AxesSubplot at 0x15c33a89e48>"
      ]
     },
     "execution_count": 75,
     "metadata": {},
     "output_type": "execute_result"
    },
    {
     "data": {
      "image/png": "[encoded data removed]",
      "text/plain": [
       "<Figure size 432x288 with 1 Axes>"
      ]
     },
     "metadata": {},
     "output_type": "display_data"
    }
   ],
   "source": [
    "sns.regplot(x=lm.predict(X), y=df['overall_rating'], data=df, fit_reg=True) #Plot predicted and actual Overall Rating values."
   ]
  },
  {
   "cell_type": "code",
   "execution_count": null,
   "metadata": {},
   "outputs": [],
   "source": []
  },
  {
   "cell_type": "code",
   "execution_count": null,
   "metadata": {},
   "outputs": [],
   "source": []
  },
  {
   "cell_type": "code",
   "execution_count": null,
   "metadata": {},
   "outputs": [],
   "source": []
  },
  {
   "cell_type": "markdown",
   "metadata": {},
   "source": [
    "# Decision Tree\n",
    "Why chose decision trees?\n",
    "Different kinds of models have different advantages. The decision tree model is very good at handling tabular data \n",
    "with numerical features, or categorical features with fewer than hundreds of categories. \n",
    "Unlike linear models, decision trees are able to capture non-linear interaction between the features and the target.\n",
    "\n",
    "One important note is that tree based models are not designed to work with very sparse features. \n",
    "When dealing with sparse input data (e.g. categorical features with large dimension), we can either pre-process \n",
    "the sparse features to generate numerical statistics, or switch to a linear model, which is better suited for such scenarios.\n",
    "\n",
    "\n",
    "Fitting Decision Tree Regression to the Training set"
   ]
  },
  {
   "cell_type": "code",
   "execution_count": 76,
   "metadata": {},
   "outputs": [],
   "source": [
    "# Fitting Decision Tree Classification to the Training set\n",
    "from sklearn.tree import DecisionTreeRegressor"
   ]
  },
  {
   "cell_type": "code",
   "execution_count": 77,
   "metadata": {},
   "outputs": [
    {
     "name": "stdout",
     "output_type": "stream",
     "text": [
      "---------------------------------------------------------------------------\n",
      "Predicted Values : [75. 72. 67. ... 62. 70. 73.]\n",
      "---------------------------------------------------------------------------\n"
     ]
    }
   ],
   "source": [
    "regressor_desisionTree=DecisionTreeRegressor()\n",
    "regressor_desisionTree.fit(X_train,y_train)\n",
    "# Predicting the Test set results\n",
    "y_prediction = regressor_desisionTree.predict(X_test)\n",
    "print('-'*75)\n",
    "print(\"Predicted Values :\", y_prediction)\n",
    "\n",
    "print('-'*75)"
   ]
  },
  {
   "cell_type": "markdown",
   "metadata": {},
   "source": [
    "## Evaluating the Model Using RMSE\n"
   ]
  },
  {
   "cell_type": "markdown",
   "metadata": {},
   "source": [
    "Root Mean Square Error (RMSE) is the standard deviation of the residuals (prediction errors). Residuals are a measure of \n",
    "how far from the regression line data points are; RMSE is a measure of how spread out these residuals are. In other words, \n",
    "it tells how concentrated the data is around the line of best fit"
   ]
  },
  {
   "cell_type": "code",
   "execution_count": 78,
   "metadata": {},
   "outputs": [
    {
     "name": "stdout",
     "output_type": "stream",
     "text": [
      "1.8535388539269773\n"
     ]
    }
   ],
   "source": [
    "#Calculating Mean Squared Error\n",
    "mse = mean_squared_error(y_test, y_prediction) #Mean Squared Error: To check the level of error of a model\n",
    "print(mse)"
   ]
  },
  {
   "cell_type": "code",
   "execution_count": 79,
   "metadata": {},
   "outputs": [
    {
     "name": "stdout",
     "output_type": "stream",
     "text": [
      "---------------------------------------------------------------------------\n",
      "RMSE :  1.3614473379190901\n",
      "---------------------------------------------------------------------------\n"
     ]
    }
   ],
   "source": [
    "RMSE = sqrt(mean_squared_error(y_true = y_test, y_pred = y_prediction))\n",
    "print('-'*75)\n",
    "print('RMSE : ', RMSE)\n",
    "print('-'*75)"
   ]
  },
  {
   "cell_type": "markdown",
   "metadata": {},
   "source": [
    "Coefficient of Determination. The coefficient of determination (denoted by R2)\n",
    "R-squared is a statistical measure of how close the data are to the fitted regression line. \n",
    "It is also known as the coefficient of determination, or the coefficient of multiple determination for multiple regression. \n",
    "0% indicates that the model explains none of the variability of the response data around its mean\n",
    "It is a key output of regression analysis. It is interpreted as the proportion of the variance in the dependent variable \n",
    "that is predictable from the independent variable."
   ]
  },
  {
   "cell_type": "code",
   "execution_count": 80,
   "metadata": {},
   "outputs": [
    {
     "data": {
      "text/plain": [
       "0.9620357893743948"
      ]
     },
     "execution_count": 80,
     "metadata": {},
     "output_type": "execute_result"
    }
   ],
   "source": [
    "r2_score(y_test , y_prediction)"
   ]
  },
  {
   "cell_type": "code",
   "execution_count": 81,
   "metadata": {},
   "outputs": [
    {
     "name": "stdout",
     "output_type": "stream",
     "text": [
      "---------------------------------------------------------------------------\n",
      "Predicting after applying Decision Tree Regression we get the score as : 96.204%\n",
      "---------------------------------------------------------------------------\n"
     ]
    }
   ],
   "source": [
    "reg_decisionTreeReg_score=regressor_desisionTree.score(X_test,y_test)\n",
    "print('-'*75)\n",
    "print(\"Predicting after applying Decision Tree Regression we get the score as : {:.5}%\" \\\n",
    "                                      .format(regressor_desisionTree.score(X_test,y_test)*100))\n",
    "print('-'*75)"
   ]
  },
  {
   "cell_type": "markdown",
   "metadata": {},
   "source": [
    "## Model Evaluation Using Cross-Validation"
   ]
  },
  {
   "cell_type": "code",
   "execution_count": 82,
   "metadata": {},
   "outputs": [
    {
     "data": {
      "text/plain": [
       "array([-7.43869699, -7.09909482, -7.17622632, -7.30622071, -7.16294602,\n",
       "       -7.5722824 , -7.13949663, -7.32080193, -7.45113095, -7.22623321])"
      ]
     },
     "execution_count": 82,
     "metadata": {},
     "output_type": "execute_result"
    }
   ],
   "source": [
    "#Evaluating the model using 10-fold cross-validation\n",
    "scores = cross_val_score(LinearRegression(), X, y, scoring='neg_mean_squared_error', cv=10)\n",
    "scores"
   ]
  },
  {
   "cell_type": "code",
   "execution_count": 83,
   "metadata": {},
   "outputs": [
    {
     "data": {
      "text/plain": [
       "2.6998727744546653"
      ]
     },
     "execution_count": 83,
     "metadata": {},
     "output_type": "execute_result"
    }
   ],
   "source": [
    "np.sqrt(scores.mean() * -1)"
   ]
  },
  {
   "cell_type": "code",
   "execution_count": 84,
   "metadata": {},
   "outputs": [
    {
     "name": "stdout",
     "output_type": "stream",
     "text": [
      "The Root Mean Square Error using cross validation for the Model is 2.6998727744546653 and the Results can be further improved using feature extraction and rebuilding, training the model.\n"
     ]
    }
   ],
   "source": [
    "print(\"The Root Mean Square Error using cross validation for the Model is \"+ str(np.sqrt(scores.mean() * -1)) +\" and the Results can be further improved using feature extraction and rebuilding, training the model.\")"
   ]
  },
  {
   "cell_type": "code",
   "execution_count": null,
   "metadata": {},
   "outputs": [],
   "source": []
  }
 ],
 "metadata": {
  "kernelspec": {
   "display_name": "Python 3",
   "language": "python",
   "name": "python3"
  },
  "language_info": {
   "codemirror_mode": {
    "name": "ipython",
    "version": 3
   },
   "file_extension": ".py",
   "mimetype": "text/x-python",
   "name": "python",
   "nbconvert_exporter": "python",
   "pygments_lexer": "ipython3",
   "version": "3.6.6"
  }
 },
 "nbformat": 4,
 "nbformat_minor": 2
}
